{
 "cells": [
  {
   "cell_type": "markdown",
   "metadata": {
    "id": "UD3W9scMVUzg"
   },
   "source": [
    "## Data Exploration"
   ]
  },
  {
   "cell_type": "code",
   "execution_count": 1,
   "metadata": {
    "executionInfo": {
     "elapsed": 486,
     "status": "ok",
     "timestamp": 1651003269497,
     "user": {
      "displayName": "Muhammad Abiodun Sulaiman",
      "userId": "02471899085126984945"
     },
     "user_tz": -60
    },
    "id": "NaIYDqkouu--"
   },
   "outputs": [],
   "source": [
    "# Import necessary libraries\n",
    "\n",
    "import pandas as pd\n",
    "import numpy as np\n",
    "import matplotlib.pyplot as plt\n",
    "plt.rcdefaults()\n",
    "\n",
    "import warnings\n",
    "warnings.filterwarnings(\"ignore\")"
   ]
  },
  {
   "cell_type": "code",
   "execution_count": 2,
   "metadata": {
    "executionInfo": {
     "elapsed": 13,
     "status": "ok",
     "timestamp": 1651003272821,
     "user": {
      "displayName": "Muhammad Abiodun Sulaiman",
      "userId": "02471899085126984945"
     },
     "user_tz": -60
    },
    "id": "aTrQGOMI5OhL"
   },
   "outputs": [],
   "source": [
    "# Function for dropping columns\n",
    "\n",
    "def drop_columns(dataset,column_names):\n",
    "    dataset = dataset.drop(column_names,axis = 1)\n",
    "    return dataset"
   ]
  },
  {
   "cell_type": "code",
   "execution_count": 3,
   "metadata": {
    "executionInfo": {
     "elapsed": 14,
     "status": "ok",
     "timestamp": 1651003275971,
     "user": {
      "displayName": "Muhammad Abiodun Sulaiman",
      "userId": "02471899085126984945"
     },
     "user_tz": -60
    },
    "id": "0IXDqDX82StX"
   },
   "outputs": [],
   "source": [
    "# Function for droping rows\n",
    "\n",
    "def drop_rows(dataset,row_names):\n",
    "    dataset = dataset.drop(row_names,axis = 0)\n",
    "    return dataset"
   ]
  },
  {
   "cell_type": "code",
   "execution_count": 4,
   "metadata": {
    "colab": {
     "base_uri": "https://localhost:8080/",
     "height": 491
    },
    "executionInfo": {
     "elapsed": 662,
     "status": "ok",
     "timestamp": 1651003316095,
     "user": {
      "displayName": "Muhammad Abiodun Sulaiman",
      "userId": "02471899085126984945"
     },
     "user_tz": -60
    },
    "id": "NrM9yZF4uu_L",
    "outputId": "a8adcb98-f578-43a6-f28e-f79e6f868528"
   },
   "outputs": [
    {
     "data": {
      "text/html": [
       "<div>\n",
       "<style scoped>\n",
       "    .dataframe tbody tr th:only-of-type {\n",
       "        vertical-align: middle;\n",
       "    }\n",
       "\n",
       "    .dataframe tbody tr th {\n",
       "        vertical-align: top;\n",
       "    }\n",
       "\n",
       "    .dataframe thead th {\n",
       "        text-align: right;\n",
       "    }\n",
       "</style>\n",
       "<table border=\"1\" class=\"dataframe\">\n",
       "  <thead>\n",
       "    <tr style=\"text-align: right;\">\n",
       "      <th></th>\n",
       "      <th>Country Name</th>\n",
       "      <th>Country Code</th>\n",
       "      <th>Indicator Name</th>\n",
       "      <th>Indicator Code</th>\n",
       "      <th>1960</th>\n",
       "      <th>1961</th>\n",
       "      <th>1962</th>\n",
       "      <th>1963</th>\n",
       "      <th>1964</th>\n",
       "      <th>1965</th>\n",
       "      <th>...</th>\n",
       "      <th>2012</th>\n",
       "      <th>2013</th>\n",
       "      <th>2014</th>\n",
       "      <th>2015</th>\n",
       "      <th>2016</th>\n",
       "      <th>2017</th>\n",
       "      <th>2018</th>\n",
       "      <th>2019</th>\n",
       "      <th>2020</th>\n",
       "      <th>Unnamed: 65</th>\n",
       "    </tr>\n",
       "  </thead>\n",
       "  <tbody>\n",
       "    <tr>\n",
       "      <th>0</th>\n",
       "      <td>Aruba</td>\n",
       "      <td>ABW</td>\n",
       "      <td>Urban population (% of total population)</td>\n",
       "      <td>SP.URB.TOTL.IN.ZS</td>\n",
       "      <td>50.776</td>\n",
       "      <td>50.761000</td>\n",
       "      <td>50.746000</td>\n",
       "      <td>50.730000</td>\n",
       "      <td>50.715000</td>\n",
       "      <td>50.700000</td>\n",
       "      <td>...</td>\n",
       "      <td>42.957000</td>\n",
       "      <td>42.990000</td>\n",
       "      <td>43.041000</td>\n",
       "      <td>43.108000</td>\n",
       "      <td>43.192000</td>\n",
       "      <td>43.293000</td>\n",
       "      <td>43.411000</td>\n",
       "      <td>43.546000</td>\n",
       "      <td>43.697000</td>\n",
       "      <td>NaN</td>\n",
       "    </tr>\n",
       "    <tr>\n",
       "      <th>1</th>\n",
       "      <td>Aruba</td>\n",
       "      <td>ABW</td>\n",
       "      <td>Urban population</td>\n",
       "      <td>SP.URB.TOTL</td>\n",
       "      <td>27525.000</td>\n",
       "      <td>28139.000000</td>\n",
       "      <td>28537.000000</td>\n",
       "      <td>28763.000000</td>\n",
       "      <td>28922.000000</td>\n",
       "      <td>29080.000000</td>\n",
       "      <td>...</td>\n",
       "      <td>44059.000000</td>\n",
       "      <td>44351.000000</td>\n",
       "      <td>44666.000000</td>\n",
       "      <td>44978.000000</td>\n",
       "      <td>45293.000000</td>\n",
       "      <td>45614.000000</td>\n",
       "      <td>45949.000000</td>\n",
       "      <td>46294.000000</td>\n",
       "      <td>46654.000000</td>\n",
       "      <td>NaN</td>\n",
       "    </tr>\n",
       "    <tr>\n",
       "      <th>2</th>\n",
       "      <td>Aruba</td>\n",
       "      <td>ABW</td>\n",
       "      <td>Urban population growth (annual %)</td>\n",
       "      <td>SP.URB.GROW</td>\n",
       "      <td>NaN</td>\n",
       "      <td>2.206183</td>\n",
       "      <td>1.404498</td>\n",
       "      <td>0.788835</td>\n",
       "      <td>0.551271</td>\n",
       "      <td>0.544810</td>\n",
       "      <td>...</td>\n",
       "      <td>0.543931</td>\n",
       "      <td>0.660561</td>\n",
       "      <td>0.707733</td>\n",
       "      <td>0.696090</td>\n",
       "      <td>0.697901</td>\n",
       "      <td>0.706219</td>\n",
       "      <td>0.731740</td>\n",
       "      <td>0.748028</td>\n",
       "      <td>0.774631</td>\n",
       "      <td>NaN</td>\n",
       "    </tr>\n",
       "    <tr>\n",
       "      <th>3</th>\n",
       "      <td>Aruba</td>\n",
       "      <td>ABW</td>\n",
       "      <td>Population, total</td>\n",
       "      <td>SP.POP.TOTL</td>\n",
       "      <td>54208.000</td>\n",
       "      <td>55434.000000</td>\n",
       "      <td>56234.000000</td>\n",
       "      <td>56699.000000</td>\n",
       "      <td>57029.000000</td>\n",
       "      <td>57357.000000</td>\n",
       "      <td>...</td>\n",
       "      <td>102565.000000</td>\n",
       "      <td>103165.000000</td>\n",
       "      <td>103776.000000</td>\n",
       "      <td>104339.000000</td>\n",
       "      <td>104865.000000</td>\n",
       "      <td>105361.000000</td>\n",
       "      <td>105846.000000</td>\n",
       "      <td>106310.000000</td>\n",
       "      <td>106766.000000</td>\n",
       "      <td>NaN</td>\n",
       "    </tr>\n",
       "    <tr>\n",
       "      <th>4</th>\n",
       "      <td>Aruba</td>\n",
       "      <td>ABW</td>\n",
       "      <td>Population growth (annual %)</td>\n",
       "      <td>SP.POP.GROW</td>\n",
       "      <td>NaN</td>\n",
       "      <td>2.236462</td>\n",
       "      <td>1.432843</td>\n",
       "      <td>0.823502</td>\n",
       "      <td>0.580334</td>\n",
       "      <td>0.573498</td>\n",
       "      <td>...</td>\n",
       "      <td>0.503385</td>\n",
       "      <td>0.583290</td>\n",
       "      <td>0.590508</td>\n",
       "      <td>0.541048</td>\n",
       "      <td>0.502860</td>\n",
       "      <td>0.471874</td>\n",
       "      <td>0.459266</td>\n",
       "      <td>0.437415</td>\n",
       "      <td>0.428017</td>\n",
       "      <td>NaN</td>\n",
       "    </tr>\n",
       "  </tbody>\n",
       "</table>\n",
       "<p>5 rows × 66 columns</p>\n",
       "</div>"
      ],
      "text/plain": [
       "  Country Name Country Code                            Indicator Name  \\\n",
       "0        Aruba          ABW  Urban population (% of total population)   \n",
       "1        Aruba          ABW                          Urban population   \n",
       "2        Aruba          ABW        Urban population growth (annual %)   \n",
       "3        Aruba          ABW                         Population, total   \n",
       "4        Aruba          ABW              Population growth (annual %)   \n",
       "\n",
       "      Indicator Code       1960          1961          1962          1963  \\\n",
       "0  SP.URB.TOTL.IN.ZS     50.776     50.761000     50.746000     50.730000   \n",
       "1        SP.URB.TOTL  27525.000  28139.000000  28537.000000  28763.000000   \n",
       "2        SP.URB.GROW        NaN      2.206183      1.404498      0.788835   \n",
       "3        SP.POP.TOTL  54208.000  55434.000000  56234.000000  56699.000000   \n",
       "4        SP.POP.GROW        NaN      2.236462      1.432843      0.823502   \n",
       "\n",
       "           1964          1965  ...           2012           2013  \\\n",
       "0     50.715000     50.700000  ...      42.957000      42.990000   \n",
       "1  28922.000000  29080.000000  ...   44059.000000   44351.000000   \n",
       "2      0.551271      0.544810  ...       0.543931       0.660561   \n",
       "3  57029.000000  57357.000000  ...  102565.000000  103165.000000   \n",
       "4      0.580334      0.573498  ...       0.503385       0.583290   \n",
       "\n",
       "            2014           2015           2016           2017           2018  \\\n",
       "0      43.041000      43.108000      43.192000      43.293000      43.411000   \n",
       "1   44666.000000   44978.000000   45293.000000   45614.000000   45949.000000   \n",
       "2       0.707733       0.696090       0.697901       0.706219       0.731740   \n",
       "3  103776.000000  104339.000000  104865.000000  105361.000000  105846.000000   \n",
       "4       0.590508       0.541048       0.502860       0.471874       0.459266   \n",
       "\n",
       "            2019           2020  Unnamed: 65  \n",
       "0      43.546000      43.697000          NaN  \n",
       "1   46294.000000   46654.000000          NaN  \n",
       "2       0.748028       0.774631          NaN  \n",
       "3  106310.000000  106766.000000          NaN  \n",
       "4       0.437415       0.428017          NaN  \n",
       "\n",
       "[5 rows x 66 columns]"
      ]
     },
     "execution_count": 4,
     "metadata": {},
     "output_type": "execute_result"
    }
   ],
   "source": [
    "# Load in the data gotten from then world bank and display the first 5 rows of the data\n",
    "\n",
    "df_world_bank = pd.read_csv(\"./API_19_DS2_en_csv_v2_3931355.csv\", skiprows=4)\n",
    "df_countries = pd.read_csv('./all_countries.csv')\n",
    "df_world_bank.head()"
   ]
  },
  {
   "cell_type": "code",
   "execution_count": 5,
   "metadata": {
    "colab": {
     "base_uri": "https://localhost:8080/",
     "height": 206
    },
    "executionInfo": {
     "elapsed": 536,
     "status": "ok",
     "timestamp": 1651003326006,
     "user": {
      "displayName": "Muhammad Abiodun Sulaiman",
      "userId": "02471899085126984945"
     },
     "user_tz": -60
    },
    "id": "QlMOdL1wVUzy",
    "outputId": "822f283f-b7c9-4da0-df8e-c7c404aca0a4"
   },
   "outputs": [
    {
     "data": {
      "text/html": [
       "<div>\n",
       "<style scoped>\n",
       "    .dataframe tbody tr th:only-of-type {\n",
       "        vertical-align: middle;\n",
       "    }\n",
       "\n",
       "    .dataframe tbody tr th {\n",
       "        vertical-align: top;\n",
       "    }\n",
       "\n",
       "    .dataframe thead th {\n",
       "        text-align: right;\n",
       "    }\n",
       "</style>\n",
       "<table border=\"1\" class=\"dataframe\">\n",
       "  <thead>\n",
       "    <tr style=\"text-align: right;\">\n",
       "      <th></th>\n",
       "      <th>name</th>\n",
       "      <th>alpha-2</th>\n",
       "      <th>alpha-3</th>\n",
       "      <th>country-code</th>\n",
       "      <th>iso_3166-2</th>\n",
       "      <th>region</th>\n",
       "      <th>sub-region</th>\n",
       "      <th>intermediate-region</th>\n",
       "      <th>region-code</th>\n",
       "      <th>sub-region-code</th>\n",
       "      <th>intermediate-region-code</th>\n",
       "    </tr>\n",
       "  </thead>\n",
       "  <tbody>\n",
       "    <tr>\n",
       "      <th>0</th>\n",
       "      <td>Afghanistan</td>\n",
       "      <td>AF</td>\n",
       "      <td>AFG</td>\n",
       "      <td>4</td>\n",
       "      <td>ISO 3166-2:AF</td>\n",
       "      <td>Asia</td>\n",
       "      <td>Southern Asia</td>\n",
       "      <td>NaN</td>\n",
       "      <td>142.0</td>\n",
       "      <td>34.0</td>\n",
       "      <td>NaN</td>\n",
       "    </tr>\n",
       "    <tr>\n",
       "      <th>1</th>\n",
       "      <td>Åland Islands</td>\n",
       "      <td>AX</td>\n",
       "      <td>ALA</td>\n",
       "      <td>248</td>\n",
       "      <td>ISO 3166-2:AX</td>\n",
       "      <td>Europe</td>\n",
       "      <td>Northern Europe</td>\n",
       "      <td>NaN</td>\n",
       "      <td>150.0</td>\n",
       "      <td>154.0</td>\n",
       "      <td>NaN</td>\n",
       "    </tr>\n",
       "    <tr>\n",
       "      <th>2</th>\n",
       "      <td>Albania</td>\n",
       "      <td>AL</td>\n",
       "      <td>ALB</td>\n",
       "      <td>8</td>\n",
       "      <td>ISO 3166-2:AL</td>\n",
       "      <td>Europe</td>\n",
       "      <td>Southern Europe</td>\n",
       "      <td>NaN</td>\n",
       "      <td>150.0</td>\n",
       "      <td>39.0</td>\n",
       "      <td>NaN</td>\n",
       "    </tr>\n",
       "    <tr>\n",
       "      <th>3</th>\n",
       "      <td>Algeria</td>\n",
       "      <td>DZ</td>\n",
       "      <td>DZA</td>\n",
       "      <td>12</td>\n",
       "      <td>ISO 3166-2:DZ</td>\n",
       "      <td>Africa</td>\n",
       "      <td>Northern Africa</td>\n",
       "      <td>NaN</td>\n",
       "      <td>2.0</td>\n",
       "      <td>15.0</td>\n",
       "      <td>NaN</td>\n",
       "    </tr>\n",
       "    <tr>\n",
       "      <th>4</th>\n",
       "      <td>American Samoa</td>\n",
       "      <td>AS</td>\n",
       "      <td>ASM</td>\n",
       "      <td>16</td>\n",
       "      <td>ISO 3166-2:AS</td>\n",
       "      <td>Oceania</td>\n",
       "      <td>Polynesia</td>\n",
       "      <td>NaN</td>\n",
       "      <td>9.0</td>\n",
       "      <td>61.0</td>\n",
       "      <td>NaN</td>\n",
       "    </tr>\n",
       "  </tbody>\n",
       "</table>\n",
       "</div>"
      ],
      "text/plain": [
       "             name alpha-2 alpha-3  country-code     iso_3166-2   region  \\\n",
       "0     Afghanistan      AF     AFG             4  ISO 3166-2:AF     Asia   \n",
       "1   Åland Islands      AX     ALA           248  ISO 3166-2:AX   Europe   \n",
       "2         Albania      AL     ALB             8  ISO 3166-2:AL   Europe   \n",
       "3         Algeria      DZ     DZA            12  ISO 3166-2:DZ   Africa   \n",
       "4  American Samoa      AS     ASM            16  ISO 3166-2:AS  Oceania   \n",
       "\n",
       "        sub-region intermediate-region  region-code  sub-region-code  \\\n",
       "0    Southern Asia                 NaN        142.0             34.0   \n",
       "1  Northern Europe                 NaN        150.0            154.0   \n",
       "2  Southern Europe                 NaN        150.0             39.0   \n",
       "3  Northern Africa                 NaN          2.0             15.0   \n",
       "4        Polynesia                 NaN          9.0             61.0   \n",
       "\n",
       "   intermediate-region-code  \n",
       "0                       NaN  \n",
       "1                       NaN  \n",
       "2                       NaN  \n",
       "3                       NaN  \n",
       "4                       NaN  "
      ]
     },
     "execution_count": 5,
     "metadata": {},
     "output_type": "execute_result"
    }
   ],
   "source": [
    "# Check the first five records\n",
    "\n",
    "df_countries.head()"
   ]
  },
  {
   "cell_type": "code",
   "execution_count": 6,
   "metadata": {
    "colab": {
     "base_uri": "https://localhost:8080/",
     "height": 206
    },
    "executionInfo": {
     "elapsed": 570,
     "status": "ok",
     "timestamp": 1651003339562,
     "user": {
      "displayName": "Muhammad Abiodun Sulaiman",
      "userId": "02471899085126984945"
     },
     "user_tz": -60
    },
    "id": "a9RafLoiVUz0",
    "outputId": "c021e321-7700-48a5-9fb0-f331f40890e6"
   },
   "outputs": [
    {
     "data": {
      "text/html": [
       "<div>\n",
       "<style scoped>\n",
       "    .dataframe tbody tr th:only-of-type {\n",
       "        vertical-align: middle;\n",
       "    }\n",
       "\n",
       "    .dataframe tbody tr th {\n",
       "        vertical-align: top;\n",
       "    }\n",
       "\n",
       "    .dataframe thead th {\n",
       "        text-align: right;\n",
       "    }\n",
       "</style>\n",
       "<table border=\"1\" class=\"dataframe\">\n",
       "  <thead>\n",
       "    <tr style=\"text-align: right;\">\n",
       "      <th></th>\n",
       "      <th>Country Name</th>\n",
       "      <th>Country Code</th>\n",
       "    </tr>\n",
       "  </thead>\n",
       "  <tbody>\n",
       "    <tr>\n",
       "      <th>0</th>\n",
       "      <td>Afghanistan</td>\n",
       "      <td>AFG</td>\n",
       "    </tr>\n",
       "    <tr>\n",
       "      <th>1</th>\n",
       "      <td>Åland Islands</td>\n",
       "      <td>ALA</td>\n",
       "    </tr>\n",
       "    <tr>\n",
       "      <th>2</th>\n",
       "      <td>Albania</td>\n",
       "      <td>ALB</td>\n",
       "    </tr>\n",
       "    <tr>\n",
       "      <th>3</th>\n",
       "      <td>Algeria</td>\n",
       "      <td>DZA</td>\n",
       "    </tr>\n",
       "    <tr>\n",
       "      <th>4</th>\n",
       "      <td>American Samoa</td>\n",
       "      <td>ASM</td>\n",
       "    </tr>\n",
       "  </tbody>\n",
       "</table>\n",
       "</div>"
      ],
      "text/plain": [
       "     Country Name Country Code\n",
       "0     Afghanistan          AFG\n",
       "1   Åland Islands          ALA\n",
       "2         Albania          ALB\n",
       "3         Algeria          DZA\n",
       "4  American Samoa          ASM"
      ]
     },
     "execution_count": 6,
     "metadata": {},
     "output_type": "execute_result"
    }
   ],
   "source": [
    "# Rename columns\n",
    "\n",
    "df_countries.rename(columns={'name':'Country Name', 'alpha-3':'Country Code'}, inplace=True)\n",
    "df_countries_final = df_countries[['Country Name', 'Country Code']]\n",
    "df_countries_final.head()"
   ]
  },
  {
   "cell_type": "code",
   "execution_count": 7,
   "metadata": {
    "colab": {
     "base_uri": "https://localhost:8080/"
    },
    "executionInfo": {
     "elapsed": 1181,
     "status": "ok",
     "timestamp": 1651003348087,
     "user": {
      "displayName": "Muhammad Abiodun Sulaiman",
      "userId": "02471899085126984945"
     },
     "user_tz": -60
    },
    "id": "Sm6NyFghVUz3",
    "outputId": "ce0531ec-c781-426a-9122-237221ec5af4"
   },
   "outputs": [
    {
     "data": {
      "text/plain": [
       "(249, 2)"
      ]
     },
     "execution_count": 7,
     "metadata": {},
     "output_type": "execute_result"
    }
   ],
   "source": [
    "# Check the number of rows and columns in the dataframe\n",
    "\n",
    "df_countries_final.shape"
   ]
  },
  {
   "cell_type": "code",
   "execution_count": 8,
   "metadata": {
    "colab": {
     "base_uri": "https://localhost:8080/"
    },
    "executionInfo": {
     "elapsed": 579,
     "status": "ok",
     "timestamp": 1651003365801,
     "user": {
      "displayName": "Muhammad Abiodun Sulaiman",
      "userId": "02471899085126984945"
     },
     "user_tz": -60
    },
    "id": "-c2r98cdULgC",
    "outputId": "70a992f5-418d-4c89-d95e-32faf83af0ed"
   },
   "outputs": [
    {
     "data": {
      "text/plain": [
       "(20216, 66)"
      ]
     },
     "execution_count": 8,
     "metadata": {},
     "output_type": "execute_result"
    }
   ],
   "source": [
    "# Check the number of rows and columns in the dataframe\n",
    "#check the shape of the dataframe\n",
    "df_world_bank.shape"
   ]
  },
  {
   "cell_type": "markdown",
   "metadata": {
    "id": "C5O8YlNnVUz8"
   },
   "source": [
    "We found that there are 20216 rows and 66 columns in the loaded dataframe."
   ]
  },
  {
   "cell_type": "code",
   "execution_count": 9,
   "metadata": {
    "colab": {
     "base_uri": "https://localhost:8080/",
     "height": 424
    },
    "executionInfo": {
     "elapsed": 982,
     "status": "ok",
     "timestamp": 1650986756272,
     "user": {
      "displayName": "Muhammad Abiodun Sulaiman",
      "userId": "02471899085126984945"
     },
     "user_tz": -60
    },
    "id": "RcdFg_KvVUz8",
    "outputId": "07583f4c-d781-443a-b744-fa4bb285b267"
   },
   "outputs": [
    {
     "data": {
      "text/html": [
       "<div>\n",
       "<style scoped>\n",
       "    .dataframe tbody tr th:only-of-type {\n",
       "        vertical-align: middle;\n",
       "    }\n",
       "\n",
       "    .dataframe tbody tr th {\n",
       "        vertical-align: top;\n",
       "    }\n",
       "\n",
       "    .dataframe thead th {\n",
       "        text-align: right;\n",
       "    }\n",
       "</style>\n",
       "<table border=\"1\" class=\"dataframe\">\n",
       "  <thead>\n",
       "    <tr style=\"text-align: right;\">\n",
       "      <th></th>\n",
       "      <th>count</th>\n",
       "      <th>mean</th>\n",
       "      <th>std</th>\n",
       "      <th>min</th>\n",
       "      <th>25%</th>\n",
       "      <th>50%</th>\n",
       "      <th>75%</th>\n",
       "      <th>max</th>\n",
       "    </tr>\n",
       "  </thead>\n",
       "  <tbody>\n",
       "    <tr>\n",
       "      <th>1960</th>\n",
       "      <td>3140.0</td>\n",
       "      <td>2.015940e+07</td>\n",
       "      <td>1.766754e+08</td>\n",
       "      <td>-3.667000</td>\n",
       "      <td>1.658243</td>\n",
       "      <td>42.140500</td>\n",
       "      <td>6640.735250</td>\n",
       "      <td>3.040000e+09</td>\n",
       "    </tr>\n",
       "    <tr>\n",
       "      <th>1961</th>\n",
       "      <td>4546.0</td>\n",
       "      <td>1.476890e+07</td>\n",
       "      <td>1.579775e+08</td>\n",
       "      <td>-3.667000</td>\n",
       "      <td>2.727489</td>\n",
       "      <td>30.368305</td>\n",
       "      <td>1764.864977</td>\n",
       "      <td>3.428000e+09</td>\n",
       "    </tr>\n",
       "    <tr>\n",
       "      <th>1962</th>\n",
       "      <td>4727.0</td>\n",
       "      <td>1.488896e+07</td>\n",
       "      <td>1.643346e+08</td>\n",
       "      <td>-3.667000</td>\n",
       "      <td>2.894394</td>\n",
       "      <td>35.428305</td>\n",
       "      <td>1786.300000</td>\n",
       "      <td>3.797000e+09</td>\n",
       "    </tr>\n",
       "    <tr>\n",
       "      <th>1963</th>\n",
       "      <td>4587.0</td>\n",
       "      <td>1.642074e+07</td>\n",
       "      <td>1.826950e+08</td>\n",
       "      <td>-370.367000</td>\n",
       "      <td>2.724582</td>\n",
       "      <td>30.895000</td>\n",
       "      <td>1831.447613</td>\n",
       "      <td>4.362000e+09</td>\n",
       "    </tr>\n",
       "    <tr>\n",
       "      <th>1964</th>\n",
       "      <td>4643.0</td>\n",
       "      <td>1.688664e+07</td>\n",
       "      <td>1.898123e+08</td>\n",
       "      <td>-3.667000</td>\n",
       "      <td>2.651414</td>\n",
       "      <td>31.158000</td>\n",
       "      <td>1824.767669</td>\n",
       "      <td>4.653000e+09</td>\n",
       "    </tr>\n",
       "    <tr>\n",
       "      <th>...</th>\n",
       "      <td>...</td>\n",
       "      <td>...</td>\n",
       "      <td>...</td>\n",
       "      <td>...</td>\n",
       "      <td>...</td>\n",
       "      <td>...</td>\n",
       "      <td>...</td>\n",
       "      <td>...</td>\n",
       "    </tr>\n",
       "    <tr>\n",
       "      <th>2017</th>\n",
       "      <td>8067.0</td>\n",
       "      <td>1.553889e+07</td>\n",
       "      <td>2.046260e+08</td>\n",
       "      <td>-28.307232</td>\n",
       "      <td>2.170596</td>\n",
       "      <td>22.925868</td>\n",
       "      <td>1279.250000</td>\n",
       "      <td>7.519183e+09</td>\n",
       "    </tr>\n",
       "    <tr>\n",
       "      <th>2018</th>\n",
       "      <td>7445.0</td>\n",
       "      <td>1.709443e+07</td>\n",
       "      <td>2.158258e+08</td>\n",
       "      <td>-1275.189986</td>\n",
       "      <td>2.066193</td>\n",
       "      <td>22.925044</td>\n",
       "      <td>1998.141844</td>\n",
       "      <td>7.602454e+09</td>\n",
       "    </tr>\n",
       "    <tr>\n",
       "      <th>2019</th>\n",
       "      <td>3718.0</td>\n",
       "      <td>3.435867e+07</td>\n",
       "      <td>3.084641e+08</td>\n",
       "      <td>-18.600160</td>\n",
       "      <td>2.763476</td>\n",
       "      <td>30.749500</td>\n",
       "      <td>100.000000</td>\n",
       "      <td>7.683372e+09</td>\n",
       "    </tr>\n",
       "    <tr>\n",
       "      <th>2020</th>\n",
       "      <td>2999.0</td>\n",
       "      <td>4.320922e+07</td>\n",
       "      <td>3.472421e+08</td>\n",
       "      <td>-34.208963</td>\n",
       "      <td>2.600000</td>\n",
       "      <td>23.004831</td>\n",
       "      <td>282.700000</td>\n",
       "      <td>7.761620e+09</td>\n",
       "    </tr>\n",
       "    <tr>\n",
       "      <th>Unnamed: 65</th>\n",
       "      <td>0.0</td>\n",
       "      <td>NaN</td>\n",
       "      <td>NaN</td>\n",
       "      <td>NaN</td>\n",
       "      <td>NaN</td>\n",
       "      <td>NaN</td>\n",
       "      <td>NaN</td>\n",
       "      <td>NaN</td>\n",
       "    </tr>\n",
       "  </tbody>\n",
       "</table>\n",
       "<p>62 rows × 8 columns</p>\n",
       "</div>"
      ],
      "text/plain": [
       "              count          mean           std          min       25%  \\\n",
       "1960         3140.0  2.015940e+07  1.766754e+08    -3.667000  1.658243   \n",
       "1961         4546.0  1.476890e+07  1.579775e+08    -3.667000  2.727489   \n",
       "1962         4727.0  1.488896e+07  1.643346e+08    -3.667000  2.894394   \n",
       "1963         4587.0  1.642074e+07  1.826950e+08  -370.367000  2.724582   \n",
       "1964         4643.0  1.688664e+07  1.898123e+08    -3.667000  2.651414   \n",
       "...             ...           ...           ...          ...       ...   \n",
       "2017         8067.0  1.553889e+07  2.046260e+08   -28.307232  2.170596   \n",
       "2018         7445.0  1.709443e+07  2.158258e+08 -1275.189986  2.066193   \n",
       "2019         3718.0  3.435867e+07  3.084641e+08   -18.600160  2.763476   \n",
       "2020         2999.0  4.320922e+07  3.472421e+08   -34.208963  2.600000   \n",
       "Unnamed: 65     0.0           NaN           NaN          NaN       NaN   \n",
       "\n",
       "                   50%          75%           max  \n",
       "1960         42.140500  6640.735250  3.040000e+09  \n",
       "1961         30.368305  1764.864977  3.428000e+09  \n",
       "1962         35.428305  1786.300000  3.797000e+09  \n",
       "1963         30.895000  1831.447613  4.362000e+09  \n",
       "1964         31.158000  1824.767669  4.653000e+09  \n",
       "...                ...          ...           ...  \n",
       "2017         22.925868  1279.250000  7.519183e+09  \n",
       "2018         22.925044  1998.141844  7.602454e+09  \n",
       "2019         30.749500   100.000000  7.683372e+09  \n",
       "2020         23.004831   282.700000  7.761620e+09  \n",
       "Unnamed: 65        NaN          NaN           NaN  \n",
       "\n",
       "[62 rows x 8 columns]"
      ]
     },
     "execution_count": 9,
     "metadata": {},
     "output_type": "execute_result"
    }
   ],
   "source": [
    "# Summary statistics presented in a transposed format\n",
    "\n",
    "df_world_bank.describe().T"
   ]
  },
  {
   "cell_type": "markdown",
   "metadata": {
    "id": "w_H02ZNAVUz-"
   },
   "source": [
    "Much insights cannot be drawn from the summary statistics table presented above as we do cannot identify the indicator whose summary corresponds with the output result above."
   ]
  },
  {
   "cell_type": "code",
   "execution_count": 10,
   "metadata": {
    "colab": {
     "base_uri": "https://localhost:8080/"
    },
    "executionInfo": {
     "elapsed": 469,
     "status": "ok",
     "timestamp": 1650986765798,
     "user": {
      "displayName": "Muhammad Abiodun Sulaiman",
      "userId": "02471899085126984945"
     },
     "user_tz": -60
    },
    "id": "J5_hu7bAUpDG",
    "outputId": "0db692cb-98ca-426d-b4b1-13509d356bd2"
   },
   "outputs": [
    {
     "data": {
      "text/plain": [
       "Country Name          0\n",
       "Country Code          0\n",
       "Indicator Name        0\n",
       "Indicator Code        0\n",
       "1960              17076\n",
       "                  ...  \n",
       "2017              12149\n",
       "2018              12771\n",
       "2019              16498\n",
       "2020              17217\n",
       "Unnamed: 65       20216\n",
       "Length: 66, dtype: int64"
      ]
     },
     "execution_count": 10,
     "metadata": {},
     "output_type": "execute_result"
    }
   ],
   "source": [
    "# Check for missing observations\n",
    "\n",
    "df_world_bank.isnull().sum()"
   ]
  },
  {
   "cell_type": "code",
   "execution_count": 11,
   "metadata": {
    "colab": {
     "base_uri": "https://localhost:8080/"
    },
    "executionInfo": {
     "elapsed": 500,
     "status": "ok",
     "timestamp": 1650986769378,
     "user": {
      "displayName": "Muhammad Abiodun Sulaiman",
      "userId": "02471899085126984945"
     },
     "user_tz": -60
    },
    "id": "4qMFv2hDUoyV",
    "outputId": "f90aee8b-6f9a-49ca-8d6e-0b6bb8a0d80f"
   },
   "outputs": [
    {
     "data": {
      "text/plain": [
       "Country Name        0.000000\n",
       "Country Code        0.000000\n",
       "Indicator Name      0.000000\n",
       "Indicator Code      0.000000\n",
       "1960               84.467748\n",
       "                     ...    \n",
       "2017               60.095964\n",
       "2018               63.172734\n",
       "2019               81.608627\n",
       "2020               85.165216\n",
       "Unnamed: 65       100.000000\n",
       "Length: 66, dtype: float64"
      ]
     },
     "execution_count": 11,
     "metadata": {},
     "output_type": "execute_result"
    }
   ],
   "source": [
    "# Check for the percentage of missing observations in each column\n",
    "\n",
    "percent_missing = df_world_bank.isnull().sum() * 100 / len(df_world_bank)\n",
    "percent_missing"
   ]
  },
  {
   "cell_type": "markdown",
   "metadata": {
    "id": "Xkv8bO94U61U"
   },
   "source": [
    "We observed that there are a lot of missing observations in the dataframe. Hence, we shall at a later time limit the years under study to contain only records from year 1990 to year 2010"
   ]
  },
  {
   "cell_type": "code",
   "execution_count": 12,
   "metadata": {
    "colab": {
     "base_uri": "https://localhost:8080/",
     "height": 421
    },
    "executionInfo": {
     "elapsed": 604,
     "status": "ok",
     "timestamp": 1650986778055,
     "user": {
      "displayName": "Muhammad Abiodun Sulaiman",
      "userId": "02471899085126984945"
     },
     "user_tz": -60
    },
    "id": "pHfBftvX3MfG",
    "outputId": "a0f3c387-f4bb-4d56-95b9-003fb5a23794"
   },
   "outputs": [
    {
     "data": {
      "text/html": [
       "<div>\n",
       "<style scoped>\n",
       "    .dataframe tbody tr th:only-of-type {\n",
       "        vertical-align: middle;\n",
       "    }\n",
       "\n",
       "    .dataframe tbody tr th {\n",
       "        vertical-align: top;\n",
       "    }\n",
       "\n",
       "    .dataframe thead th {\n",
       "        text-align: right;\n",
       "    }\n",
       "</style>\n",
       "<table border=\"1\" class=\"dataframe\">\n",
       "  <thead>\n",
       "    <tr style=\"text-align: right;\">\n",
       "      <th></th>\n",
       "      <th>0</th>\n",
       "      <th>1</th>\n",
       "      <th>2</th>\n",
       "      <th>3</th>\n",
       "      <th>4</th>\n",
       "      <th>5</th>\n",
       "      <th>6</th>\n",
       "      <th>7</th>\n",
       "      <th>8</th>\n",
       "      <th>9</th>\n",
       "      <th>...</th>\n",
       "      <th>20206</th>\n",
       "      <th>20207</th>\n",
       "      <th>20208</th>\n",
       "      <th>20209</th>\n",
       "      <th>20210</th>\n",
       "      <th>20211</th>\n",
       "      <th>20212</th>\n",
       "      <th>20213</th>\n",
       "      <th>20214</th>\n",
       "      <th>20215</th>\n",
       "    </tr>\n",
       "  </thead>\n",
       "  <tbody>\n",
       "    <tr>\n",
       "      <th>Country Name</th>\n",
       "      <td>Aruba</td>\n",
       "      <td>Aruba</td>\n",
       "      <td>Aruba</td>\n",
       "      <td>Aruba</td>\n",
       "      <td>Aruba</td>\n",
       "      <td>Aruba</td>\n",
       "      <td>Aruba</td>\n",
       "      <td>Aruba</td>\n",
       "      <td>Aruba</td>\n",
       "      <td>Aruba</td>\n",
       "      <td>...</td>\n",
       "      <td>Zimbabwe</td>\n",
       "      <td>Zimbabwe</td>\n",
       "      <td>Zimbabwe</td>\n",
       "      <td>Zimbabwe</td>\n",
       "      <td>Zimbabwe</td>\n",
       "      <td>Zimbabwe</td>\n",
       "      <td>Zimbabwe</td>\n",
       "      <td>Zimbabwe</td>\n",
       "      <td>Zimbabwe</td>\n",
       "      <td>Zimbabwe</td>\n",
       "    </tr>\n",
       "    <tr>\n",
       "      <th>Country Code</th>\n",
       "      <td>ABW</td>\n",
       "      <td>ABW</td>\n",
       "      <td>ABW</td>\n",
       "      <td>ABW</td>\n",
       "      <td>ABW</td>\n",
       "      <td>ABW</td>\n",
       "      <td>ABW</td>\n",
       "      <td>ABW</td>\n",
       "      <td>ABW</td>\n",
       "      <td>ABW</td>\n",
       "      <td>...</td>\n",
       "      <td>ZWE</td>\n",
       "      <td>ZWE</td>\n",
       "      <td>ZWE</td>\n",
       "      <td>ZWE</td>\n",
       "      <td>ZWE</td>\n",
       "      <td>ZWE</td>\n",
       "      <td>ZWE</td>\n",
       "      <td>ZWE</td>\n",
       "      <td>ZWE</td>\n",
       "      <td>ZWE</td>\n",
       "    </tr>\n",
       "    <tr>\n",
       "      <th>Indicator Name</th>\n",
       "      <td>Urban population (% of total population)</td>\n",
       "      <td>Urban population</td>\n",
       "      <td>Urban population growth (annual %)</td>\n",
       "      <td>Population, total</td>\n",
       "      <td>Population growth (annual %)</td>\n",
       "      <td>Poverty headcount ratio at $1.90 a day (2011 P...</td>\n",
       "      <td>Prevalence of underweight, weight for age (% o...</td>\n",
       "      <td>Community health workers (per 1,000 people)</td>\n",
       "      <td>Mortality rate, under-5 (per 1,000 live births)</td>\n",
       "      <td>Primary completion rate, total (% of relevant ...</td>\n",
       "      <td>...</td>\n",
       "      <td>Forest area (% of land area)</td>\n",
       "      <td>Forest area (sq. km)</td>\n",
       "      <td>Land area where elevation is below 5 meters (%...</td>\n",
       "      <td>Urban land area where elevation is below 5 met...</td>\n",
       "      <td>Urban land area where elevation is below 5 met...</td>\n",
       "      <td>Rural land area where elevation is below 5 met...</td>\n",
       "      <td>Rural land area where elevation is below 5 met...</td>\n",
       "      <td>Arable land (% of land area)</td>\n",
       "      <td>Agricultural land (% of land area)</td>\n",
       "      <td>Agricultural land (sq. km)</td>\n",
       "    </tr>\n",
       "    <tr>\n",
       "      <th>Indicator Code</th>\n",
       "      <td>SP.URB.TOTL.IN.ZS</td>\n",
       "      <td>SP.URB.TOTL</td>\n",
       "      <td>SP.URB.GROW</td>\n",
       "      <td>SP.POP.TOTL</td>\n",
       "      <td>SP.POP.GROW</td>\n",
       "      <td>SI.POV.DDAY</td>\n",
       "      <td>SH.STA.MALN.ZS</td>\n",
       "      <td>SH.MED.CMHW.P3</td>\n",
       "      <td>SH.DYN.MORT</td>\n",
       "      <td>SE.PRM.CMPT.ZS</td>\n",
       "      <td>...</td>\n",
       "      <td>AG.LND.FRST.ZS</td>\n",
       "      <td>AG.LND.FRST.K2</td>\n",
       "      <td>AG.LND.EL5M.ZS</td>\n",
       "      <td>AG.LND.EL5M.UR.ZS</td>\n",
       "      <td>AG.LND.EL5M.UR.K2</td>\n",
       "      <td>AG.LND.EL5M.RU.ZS</td>\n",
       "      <td>AG.LND.EL5M.RU.K2</td>\n",
       "      <td>AG.LND.ARBL.ZS</td>\n",
       "      <td>AG.LND.AGRI.ZS</td>\n",
       "      <td>AG.LND.AGRI.K2</td>\n",
       "    </tr>\n",
       "    <tr>\n",
       "      <th>1960</th>\n",
       "      <td>50.776</td>\n",
       "      <td>27525.0</td>\n",
       "      <td>NaN</td>\n",
       "      <td>54208.0</td>\n",
       "      <td>NaN</td>\n",
       "      <td>NaN</td>\n",
       "      <td>NaN</td>\n",
       "      <td>NaN</td>\n",
       "      <td>NaN</td>\n",
       "      <td>NaN</td>\n",
       "      <td>...</td>\n",
       "      <td>NaN</td>\n",
       "      <td>NaN</td>\n",
       "      <td>NaN</td>\n",
       "      <td>NaN</td>\n",
       "      <td>NaN</td>\n",
       "      <td>NaN</td>\n",
       "      <td>NaN</td>\n",
       "      <td>NaN</td>\n",
       "      <td>NaN</td>\n",
       "      <td>NaN</td>\n",
       "    </tr>\n",
       "  </tbody>\n",
       "</table>\n",
       "<p>5 rows × 20216 columns</p>\n",
       "</div>"
      ],
      "text/plain": [
       "                                                   0                 1      \\\n",
       "Country Name                                       Aruba             Aruba   \n",
       "Country Code                                         ABW               ABW   \n",
       "Indicator Name  Urban population (% of total population)  Urban population   \n",
       "Indicator Code                         SP.URB.TOTL.IN.ZS       SP.URB.TOTL   \n",
       "1960                                              50.776           27525.0   \n",
       "\n",
       "                                             2                  3      \\\n",
       "Country Name                                 Aruba              Aruba   \n",
       "Country Code                                   ABW                ABW   \n",
       "Indicator Name  Urban population growth (annual %)  Population, total   \n",
       "Indicator Code                         SP.URB.GROW        SP.POP.TOTL   \n",
       "1960                                           NaN            54208.0   \n",
       "\n",
       "                                       4      \\\n",
       "Country Name                           Aruba   \n",
       "Country Code                             ABW   \n",
       "Indicator Name  Population growth (annual %)   \n",
       "Indicator Code                   SP.POP.GROW   \n",
       "1960                                     NaN   \n",
       "\n",
       "                                                            5      \\\n",
       "Country Name                                                Aruba   \n",
       "Country Code                                                  ABW   \n",
       "Indicator Name  Poverty headcount ratio at $1.90 a day (2011 P...   \n",
       "Indicator Code                                        SI.POV.DDAY   \n",
       "1960                                                          NaN   \n",
       "\n",
       "                                                            6      \\\n",
       "Country Name                                                Aruba   \n",
       "Country Code                                                  ABW   \n",
       "Indicator Name  Prevalence of underweight, weight for age (% o...   \n",
       "Indicator Code                                     SH.STA.MALN.ZS   \n",
       "1960                                                          NaN   \n",
       "\n",
       "                                                      7      \\\n",
       "Country Name                                          Aruba   \n",
       "Country Code                                            ABW   \n",
       "Indicator Name  Community health workers (per 1,000 people)   \n",
       "Indicator Code                               SH.MED.CMHW.P3   \n",
       "1960                                                    NaN   \n",
       "\n",
       "                                                          8      \\\n",
       "Country Name                                              Aruba   \n",
       "Country Code                                                ABW   \n",
       "Indicator Name  Mortality rate, under-5 (per 1,000 live births)   \n",
       "Indicator Code                                      SH.DYN.MORT   \n",
       "1960                                                        NaN   \n",
       "\n",
       "                                                            9      ...  \\\n",
       "Country Name                                                Aruba  ...   \n",
       "Country Code                                                  ABW  ...   \n",
       "Indicator Name  Primary completion rate, total (% of relevant ...  ...   \n",
       "Indicator Code                                     SE.PRM.CMPT.ZS  ...   \n",
       "1960                                                          NaN  ...   \n",
       "\n",
       "                                       20206                 20207  \\\n",
       "Country Name                        Zimbabwe              Zimbabwe   \n",
       "Country Code                             ZWE                   ZWE   \n",
       "Indicator Name  Forest area (% of land area)  Forest area (sq. km)   \n",
       "Indicator Code                AG.LND.FRST.ZS        AG.LND.FRST.K2   \n",
       "1960                                     NaN                   NaN   \n",
       "\n",
       "                                                            20208  \\\n",
       "Country Name                                             Zimbabwe   \n",
       "Country Code                                                  ZWE   \n",
       "Indicator Name  Land area where elevation is below 5 meters (%...   \n",
       "Indicator Code                                     AG.LND.EL5M.ZS   \n",
       "1960                                                          NaN   \n",
       "\n",
       "                                                            20209  \\\n",
       "Country Name                                             Zimbabwe   \n",
       "Country Code                                                  ZWE   \n",
       "Indicator Name  Urban land area where elevation is below 5 met...   \n",
       "Indicator Code                                  AG.LND.EL5M.UR.ZS   \n",
       "1960                                                          NaN   \n",
       "\n",
       "                                                            20210  \\\n",
       "Country Name                                             Zimbabwe   \n",
       "Country Code                                                  ZWE   \n",
       "Indicator Name  Urban land area where elevation is below 5 met...   \n",
       "Indicator Code                                  AG.LND.EL5M.UR.K2   \n",
       "1960                                                          NaN   \n",
       "\n",
       "                                                            20211  \\\n",
       "Country Name                                             Zimbabwe   \n",
       "Country Code                                                  ZWE   \n",
       "Indicator Name  Rural land area where elevation is below 5 met...   \n",
       "Indicator Code                                  AG.LND.EL5M.RU.ZS   \n",
       "1960                                                          NaN   \n",
       "\n",
       "                                                            20212  \\\n",
       "Country Name                                             Zimbabwe   \n",
       "Country Code                                                  ZWE   \n",
       "Indicator Name  Rural land area where elevation is below 5 met...   \n",
       "Indicator Code                                  AG.LND.EL5M.RU.K2   \n",
       "1960                                                          NaN   \n",
       "\n",
       "                                       20213  \\\n",
       "Country Name                        Zimbabwe   \n",
       "Country Code                             ZWE   \n",
       "Indicator Name  Arable land (% of land area)   \n",
       "Indicator Code                AG.LND.ARBL.ZS   \n",
       "1960                                     NaN   \n",
       "\n",
       "                                             20214                       20215  \n",
       "Country Name                              Zimbabwe                    Zimbabwe  \n",
       "Country Code                                   ZWE                         ZWE  \n",
       "Indicator Name  Agricultural land (% of land area)  Agricultural land (sq. km)  \n",
       "Indicator Code                      AG.LND.AGRI.ZS              AG.LND.AGRI.K2  \n",
       "1960                                           NaN                         NaN  \n",
       "\n",
       "[5 rows x 20216 columns]"
      ]
     },
     "execution_count": 12,
     "metadata": {},
     "output_type": "execute_result"
    }
   ],
   "source": [
    "# Transpose the dataframe to make the country column the index and the year the columns\n",
    "\n",
    "Transpose = df_world_bank.T\n",
    "Transpose.head()"
   ]
  },
  {
   "cell_type": "markdown",
   "metadata": {
    "id": "2VdrcFPm2Sti"
   },
   "source": [
    "Upon transposing the dataframe, we found that the data structure is not so useable as we have a couple of unneeded rows in the transposed dataframe. We shall proceed to dropping some of these columns. We would have dropped all, but it might be difficult to identify the respective indicators at a later time. Also, transposing the dataframe has tremendously increased to 20216 columns as against 66 columns in the original dataframe."
   ]
  },
  {
   "cell_type": "code",
   "execution_count": 13,
   "metadata": {
    "colab": {
     "base_uri": "https://localhost:8080/",
     "height": 421
    },
    "executionInfo": {
     "elapsed": 628,
     "status": "ok",
     "timestamp": 1650986788512,
     "user": {
      "displayName": "Muhammad Abiodun Sulaiman",
      "userId": "02471899085126984945"
     },
     "user_tz": -60
    },
    "id": "as_y3LJq2Stn",
    "outputId": "49b5d70a-d2e7-4c5f-ee04-437d04de2bf5"
   },
   "outputs": [
    {
     "data": {
      "text/html": [
       "<div>\n",
       "<style scoped>\n",
       "    .dataframe tbody tr th:only-of-type {\n",
       "        vertical-align: middle;\n",
       "    }\n",
       "\n",
       "    .dataframe tbody tr th {\n",
       "        vertical-align: top;\n",
       "    }\n",
       "\n",
       "    .dataframe thead th {\n",
       "        text-align: right;\n",
       "    }\n",
       "</style>\n",
       "<table border=\"1\" class=\"dataframe\">\n",
       "  <thead>\n",
       "    <tr style=\"text-align: right;\">\n",
       "      <th></th>\n",
       "      <th>0</th>\n",
       "      <th>1</th>\n",
       "      <th>2</th>\n",
       "      <th>3</th>\n",
       "      <th>4</th>\n",
       "      <th>5</th>\n",
       "      <th>6</th>\n",
       "      <th>7</th>\n",
       "      <th>8</th>\n",
       "      <th>9</th>\n",
       "      <th>...</th>\n",
       "      <th>20206</th>\n",
       "      <th>20207</th>\n",
       "      <th>20208</th>\n",
       "      <th>20209</th>\n",
       "      <th>20210</th>\n",
       "      <th>20211</th>\n",
       "      <th>20212</th>\n",
       "      <th>20213</th>\n",
       "      <th>20214</th>\n",
       "      <th>20215</th>\n",
       "    </tr>\n",
       "  </thead>\n",
       "  <tbody>\n",
       "    <tr>\n",
       "      <th>Country Name</th>\n",
       "      <td>Aruba</td>\n",
       "      <td>Aruba</td>\n",
       "      <td>Aruba</td>\n",
       "      <td>Aruba</td>\n",
       "      <td>Aruba</td>\n",
       "      <td>Aruba</td>\n",
       "      <td>Aruba</td>\n",
       "      <td>Aruba</td>\n",
       "      <td>Aruba</td>\n",
       "      <td>Aruba</td>\n",
       "      <td>...</td>\n",
       "      <td>Zimbabwe</td>\n",
       "      <td>Zimbabwe</td>\n",
       "      <td>Zimbabwe</td>\n",
       "      <td>Zimbabwe</td>\n",
       "      <td>Zimbabwe</td>\n",
       "      <td>Zimbabwe</td>\n",
       "      <td>Zimbabwe</td>\n",
       "      <td>Zimbabwe</td>\n",
       "      <td>Zimbabwe</td>\n",
       "      <td>Zimbabwe</td>\n",
       "    </tr>\n",
       "    <tr>\n",
       "      <th>Indicator Name</th>\n",
       "      <td>Urban population (% of total population)</td>\n",
       "      <td>Urban population</td>\n",
       "      <td>Urban population growth (annual %)</td>\n",
       "      <td>Population, total</td>\n",
       "      <td>Population growth (annual %)</td>\n",
       "      <td>Poverty headcount ratio at $1.90 a day (2011 P...</td>\n",
       "      <td>Prevalence of underweight, weight for age (% o...</td>\n",
       "      <td>Community health workers (per 1,000 people)</td>\n",
       "      <td>Mortality rate, under-5 (per 1,000 live births)</td>\n",
       "      <td>Primary completion rate, total (% of relevant ...</td>\n",
       "      <td>...</td>\n",
       "      <td>Forest area (% of land area)</td>\n",
       "      <td>Forest area (sq. km)</td>\n",
       "      <td>Land area where elevation is below 5 meters (%...</td>\n",
       "      <td>Urban land area where elevation is below 5 met...</td>\n",
       "      <td>Urban land area where elevation is below 5 met...</td>\n",
       "      <td>Rural land area where elevation is below 5 met...</td>\n",
       "      <td>Rural land area where elevation is below 5 met...</td>\n",
       "      <td>Arable land (% of land area)</td>\n",
       "      <td>Agricultural land (% of land area)</td>\n",
       "      <td>Agricultural land (sq. km)</td>\n",
       "    </tr>\n",
       "    <tr>\n",
       "      <th>1960</th>\n",
       "      <td>50.776</td>\n",
       "      <td>27525.0</td>\n",
       "      <td>NaN</td>\n",
       "      <td>54208.0</td>\n",
       "      <td>NaN</td>\n",
       "      <td>NaN</td>\n",
       "      <td>NaN</td>\n",
       "      <td>NaN</td>\n",
       "      <td>NaN</td>\n",
       "      <td>NaN</td>\n",
       "      <td>...</td>\n",
       "      <td>NaN</td>\n",
       "      <td>NaN</td>\n",
       "      <td>NaN</td>\n",
       "      <td>NaN</td>\n",
       "      <td>NaN</td>\n",
       "      <td>NaN</td>\n",
       "      <td>NaN</td>\n",
       "      <td>NaN</td>\n",
       "      <td>NaN</td>\n",
       "      <td>NaN</td>\n",
       "    </tr>\n",
       "    <tr>\n",
       "      <th>1961</th>\n",
       "      <td>50.761</td>\n",
       "      <td>28139.0</td>\n",
       "      <td>2.206183</td>\n",
       "      <td>55434.0</td>\n",
       "      <td>2.236462</td>\n",
       "      <td>NaN</td>\n",
       "      <td>NaN</td>\n",
       "      <td>NaN</td>\n",
       "      <td>NaN</td>\n",
       "      <td>NaN</td>\n",
       "      <td>...</td>\n",
       "      <td>NaN</td>\n",
       "      <td>NaN</td>\n",
       "      <td>NaN</td>\n",
       "      <td>NaN</td>\n",
       "      <td>NaN</td>\n",
       "      <td>NaN</td>\n",
       "      <td>NaN</td>\n",
       "      <td>4.87269</td>\n",
       "      <td>28.396019</td>\n",
       "      <td>109850.0</td>\n",
       "    </tr>\n",
       "    <tr>\n",
       "      <th>1962</th>\n",
       "      <td>50.746</td>\n",
       "      <td>28537.0</td>\n",
       "      <td>1.404498</td>\n",
       "      <td>56234.0</td>\n",
       "      <td>1.432843</td>\n",
       "      <td>NaN</td>\n",
       "      <td>NaN</td>\n",
       "      <td>NaN</td>\n",
       "      <td>NaN</td>\n",
       "      <td>NaN</td>\n",
       "      <td>...</td>\n",
       "      <td>NaN</td>\n",
       "      <td>NaN</td>\n",
       "      <td>NaN</td>\n",
       "      <td>NaN</td>\n",
       "      <td>NaN</td>\n",
       "      <td>NaN</td>\n",
       "      <td>NaN</td>\n",
       "      <td>5.001939</td>\n",
       "      <td>28.615743</td>\n",
       "      <td>110700.0</td>\n",
       "    </tr>\n",
       "  </tbody>\n",
       "</table>\n",
       "<p>5 rows × 20216 columns</p>\n",
       "</div>"
      ],
      "text/plain": [
       "                                                   0                 1      \\\n",
       "Country Name                                       Aruba             Aruba   \n",
       "Indicator Name  Urban population (% of total population)  Urban population   \n",
       "1960                                              50.776           27525.0   \n",
       "1961                                              50.761           28139.0   \n",
       "1962                                              50.746           28537.0   \n",
       "\n",
       "                                             2                  3      \\\n",
       "Country Name                                 Aruba              Aruba   \n",
       "Indicator Name  Urban population growth (annual %)  Population, total   \n",
       "1960                                           NaN            54208.0   \n",
       "1961                                      2.206183            55434.0   \n",
       "1962                                      1.404498            56234.0   \n",
       "\n",
       "                                       4      \\\n",
       "Country Name                           Aruba   \n",
       "Indicator Name  Population growth (annual %)   \n",
       "1960                                     NaN   \n",
       "1961                                2.236462   \n",
       "1962                                1.432843   \n",
       "\n",
       "                                                            5      \\\n",
       "Country Name                                                Aruba   \n",
       "Indicator Name  Poverty headcount ratio at $1.90 a day (2011 P...   \n",
       "1960                                                          NaN   \n",
       "1961                                                          NaN   \n",
       "1962                                                          NaN   \n",
       "\n",
       "                                                            6      \\\n",
       "Country Name                                                Aruba   \n",
       "Indicator Name  Prevalence of underweight, weight for age (% o...   \n",
       "1960                                                          NaN   \n",
       "1961                                                          NaN   \n",
       "1962                                                          NaN   \n",
       "\n",
       "                                                      7      \\\n",
       "Country Name                                          Aruba   \n",
       "Indicator Name  Community health workers (per 1,000 people)   \n",
       "1960                                                    NaN   \n",
       "1961                                                    NaN   \n",
       "1962                                                    NaN   \n",
       "\n",
       "                                                          8      \\\n",
       "Country Name                                              Aruba   \n",
       "Indicator Name  Mortality rate, under-5 (per 1,000 live births)   \n",
       "1960                                                        NaN   \n",
       "1961                                                        NaN   \n",
       "1962                                                        NaN   \n",
       "\n",
       "                                                            9      ...  \\\n",
       "Country Name                                                Aruba  ...   \n",
       "Indicator Name  Primary completion rate, total (% of relevant ...  ...   \n",
       "1960                                                          NaN  ...   \n",
       "1961                                                          NaN  ...   \n",
       "1962                                                          NaN  ...   \n",
       "\n",
       "                                       20206                 20207  \\\n",
       "Country Name                        Zimbabwe              Zimbabwe   \n",
       "Indicator Name  Forest area (% of land area)  Forest area (sq. km)   \n",
       "1960                                     NaN                   NaN   \n",
       "1961                                     NaN                   NaN   \n",
       "1962                                     NaN                   NaN   \n",
       "\n",
       "                                                            20208  \\\n",
       "Country Name                                             Zimbabwe   \n",
       "Indicator Name  Land area where elevation is below 5 meters (%...   \n",
       "1960                                                          NaN   \n",
       "1961                                                          NaN   \n",
       "1962                                                          NaN   \n",
       "\n",
       "                                                            20209  \\\n",
       "Country Name                                             Zimbabwe   \n",
       "Indicator Name  Urban land area where elevation is below 5 met...   \n",
       "1960                                                          NaN   \n",
       "1961                                                          NaN   \n",
       "1962                                                          NaN   \n",
       "\n",
       "                                                            20210  \\\n",
       "Country Name                                             Zimbabwe   \n",
       "Indicator Name  Urban land area where elevation is below 5 met...   \n",
       "1960                                                          NaN   \n",
       "1961                                                          NaN   \n",
       "1962                                                          NaN   \n",
       "\n",
       "                                                            20211  \\\n",
       "Country Name                                             Zimbabwe   \n",
       "Indicator Name  Rural land area where elevation is below 5 met...   \n",
       "1960                                                          NaN   \n",
       "1961                                                          NaN   \n",
       "1962                                                          NaN   \n",
       "\n",
       "                                                            20212  \\\n",
       "Country Name                                             Zimbabwe   \n",
       "Indicator Name  Rural land area where elevation is below 5 met...   \n",
       "1960                                                          NaN   \n",
       "1961                                                          NaN   \n",
       "1962                                                          NaN   \n",
       "\n",
       "                                       20213  \\\n",
       "Country Name                        Zimbabwe   \n",
       "Indicator Name  Arable land (% of land area)   \n",
       "1960                                     NaN   \n",
       "1961                                 4.87269   \n",
       "1962                                5.001939   \n",
       "\n",
       "                                             20214                       20215  \n",
       "Country Name                              Zimbabwe                    Zimbabwe  \n",
       "Indicator Name  Agricultural land (% of land area)  Agricultural land (sq. km)  \n",
       "1960                                           NaN                         NaN  \n",
       "1961                                     28.396019                    109850.0  \n",
       "1962                                     28.615743                    110700.0  \n",
       "\n",
       "[5 rows x 20216 columns]"
      ]
     },
     "execution_count": 13,
     "metadata": {},
     "output_type": "execute_result"
    }
   ],
   "source": [
    "# Processing the dataframe to make the country column the index and the year the columns\n",
    "\n",
    "dataset_Transposed = drop_rows(Transpose, ['Country Code', 'Indicator Code'])\n",
    "dataset_Transposed.head()"
   ]
  },
  {
   "cell_type": "markdown",
   "metadata": {
    "id": "AyLg03DAVU0F"
   },
   "source": [
    "## Preprocessing and Visualization of the Original Dataframe (df)"
   ]
  },
  {
   "cell_type": "code",
   "execution_count": 14,
   "metadata": {
    "colab": {
     "base_uri": "https://localhost:8080/",
     "height": 491
    },
    "executionInfo": {
     "elapsed": 514,
     "status": "ok",
     "timestamp": 1650992486054,
     "user": {
      "displayName": "Muhammad Abiodun Sulaiman",
      "userId": "02471899085126984945"
     },
     "user_tz": -60
    },
    "id": "VQO1PUppzH0o",
    "outputId": "b4c4925e-255d-467a-edb9-0096127631b7"
   },
   "outputs": [
    {
     "data": {
      "text/html": [
       "<div>\n",
       "<style scoped>\n",
       "    .dataframe tbody tr th:only-of-type {\n",
       "        vertical-align: middle;\n",
       "    }\n",
       "\n",
       "    .dataframe tbody tr th {\n",
       "        vertical-align: top;\n",
       "    }\n",
       "\n",
       "    .dataframe thead th {\n",
       "        text-align: right;\n",
       "    }\n",
       "</style>\n",
       "<table border=\"1\" class=\"dataframe\">\n",
       "  <thead>\n",
       "    <tr style=\"text-align: right;\">\n",
       "      <th></th>\n",
       "      <th>Country Name</th>\n",
       "      <th>Country Code</th>\n",
       "      <th>Indicator Name</th>\n",
       "      <th>Indicator Code</th>\n",
       "      <th>1990</th>\n",
       "      <th>1991</th>\n",
       "      <th>1992</th>\n",
       "      <th>1993</th>\n",
       "      <th>1994</th>\n",
       "      <th>1995</th>\n",
       "      <th>...</th>\n",
       "      <th>2001</th>\n",
       "      <th>2002</th>\n",
       "      <th>2003</th>\n",
       "      <th>2004</th>\n",
       "      <th>2005</th>\n",
       "      <th>2006</th>\n",
       "      <th>2007</th>\n",
       "      <th>2008</th>\n",
       "      <th>2009</th>\n",
       "      <th>2010</th>\n",
       "    </tr>\n",
       "  </thead>\n",
       "  <tbody>\n",
       "    <tr>\n",
       "      <th>0</th>\n",
       "      <td>Aruba</td>\n",
       "      <td>ABW</td>\n",
       "      <td>Urban population (% of total population)</td>\n",
       "      <td>SP.URB.TOTL.IN.ZS</td>\n",
       "      <td>50.319000</td>\n",
       "      <td>50.304000</td>\n",
       "      <td>49.998000</td>\n",
       "      <td>49.588000</td>\n",
       "      <td>49.17700</td>\n",
       "      <td>48.767000</td>\n",
       "      <td>...</td>\n",
       "      <td>46.339000</td>\n",
       "      <td>45.972000</td>\n",
       "      <td>45.606000</td>\n",
       "      <td>45.240000</td>\n",
       "      <td>44.875000</td>\n",
       "      <td>44.511000</td>\n",
       "      <td>44.147000</td>\n",
       "      <td>43.783000</td>\n",
       "      <td>43.421000</td>\n",
       "      <td>43.059000</td>\n",
       "    </tr>\n",
       "    <tr>\n",
       "      <th>1</th>\n",
       "      <td>Aruba</td>\n",
       "      <td>ABW</td>\n",
       "      <td>Urban population</td>\n",
       "      <td>SP.URB.TOTL</td>\n",
       "      <td>31274.000000</td>\n",
       "      <td>32508.000000</td>\n",
       "      <td>34119.000000</td>\n",
       "      <td>35949.000000</td>\n",
       "      <td>37721.00000</td>\n",
       "      <td>39172.000000</td>\n",
       "      <td>...</td>\n",
       "      <td>43045.000000</td>\n",
       "      <td>43670.000000</td>\n",
       "      <td>44245.000000</td>\n",
       "      <td>44672.000000</td>\n",
       "      <td>44888.000000</td>\n",
       "      <td>44880.000000</td>\n",
       "      <td>44688.000000</td>\n",
       "      <td>44379.000000</td>\n",
       "      <td>44051.000000</td>\n",
       "      <td>43776.000000</td>\n",
       "    </tr>\n",
       "    <tr>\n",
       "      <th>2</th>\n",
       "      <td>Aruba</td>\n",
       "      <td>ABW</td>\n",
       "      <td>Urban population growth (annual %)</td>\n",
       "      <td>SP.URB.GROW</td>\n",
       "      <td>1.784062</td>\n",
       "      <td>3.869913</td>\n",
       "      <td>4.836820</td>\n",
       "      <td>5.224685</td>\n",
       "      <td>4.81157</td>\n",
       "      <td>3.774524</td>\n",
       "      <td>...</td>\n",
       "      <td>1.391917</td>\n",
       "      <td>1.441529</td>\n",
       "      <td>1.308100</td>\n",
       "      <td>0.960454</td>\n",
       "      <td>0.482359</td>\n",
       "      <td>-0.017824</td>\n",
       "      <td>-0.428725</td>\n",
       "      <td>-0.693862</td>\n",
       "      <td>-0.741833</td>\n",
       "      <td>-0.626233</td>\n",
       "    </tr>\n",
       "    <tr>\n",
       "      <th>3</th>\n",
       "      <td>Aruba</td>\n",
       "      <td>ABW</td>\n",
       "      <td>Population, total</td>\n",
       "      <td>SP.POP.TOTL</td>\n",
       "      <td>62152.000000</td>\n",
       "      <td>64623.000000</td>\n",
       "      <td>68240.000000</td>\n",
       "      <td>72495.000000</td>\n",
       "      <td>76705.00000</td>\n",
       "      <td>80324.000000</td>\n",
       "      <td>...</td>\n",
       "      <td>92892.000000</td>\n",
       "      <td>94992.000000</td>\n",
       "      <td>97016.000000</td>\n",
       "      <td>98744.000000</td>\n",
       "      <td>100028.000000</td>\n",
       "      <td>100830.000000</td>\n",
       "      <td>101226.000000</td>\n",
       "      <td>101362.000000</td>\n",
       "      <td>101452.000000</td>\n",
       "      <td>101665.000000</td>\n",
       "    </tr>\n",
       "    <tr>\n",
       "      <th>4</th>\n",
       "      <td>Aruba</td>\n",
       "      <td>ABW</td>\n",
       "      <td>Population growth (annual %)</td>\n",
       "      <td>SP.POP.GROW</td>\n",
       "      <td>1.816830</td>\n",
       "      <td>3.898739</td>\n",
       "      <td>5.446052</td>\n",
       "      <td>6.048669</td>\n",
       "      <td>5.64493</td>\n",
       "      <td>4.610156</td>\n",
       "      <td>...</td>\n",
       "      <td>2.205163</td>\n",
       "      <td>2.235515</td>\n",
       "      <td>2.108324</td>\n",
       "      <td>1.765473</td>\n",
       "      <td>1.291950</td>\n",
       "      <td>0.798578</td>\n",
       "      <td>0.391971</td>\n",
       "      <td>0.134263</td>\n",
       "      <td>0.088751</td>\n",
       "      <td>0.209731</td>\n",
       "    </tr>\n",
       "  </tbody>\n",
       "</table>\n",
       "<p>5 rows × 26 columns</p>\n",
       "</div>"
      ],
      "text/plain": [
       "  Country Name Country Code                            Indicator Name  \\\n",
       "0        Aruba          ABW  Urban population (% of total population)   \n",
       "1        Aruba          ABW                          Urban population   \n",
       "2        Aruba          ABW        Urban population growth (annual %)   \n",
       "3        Aruba          ABW                         Population, total   \n",
       "4        Aruba          ABW              Population growth (annual %)   \n",
       "\n",
       "      Indicator Code          1990          1991          1992          1993  \\\n",
       "0  SP.URB.TOTL.IN.ZS     50.319000     50.304000     49.998000     49.588000   \n",
       "1        SP.URB.TOTL  31274.000000  32508.000000  34119.000000  35949.000000   \n",
       "2        SP.URB.GROW      1.784062      3.869913      4.836820      5.224685   \n",
       "3        SP.POP.TOTL  62152.000000  64623.000000  68240.000000  72495.000000   \n",
       "4        SP.POP.GROW      1.816830      3.898739      5.446052      6.048669   \n",
       "\n",
       "          1994          1995  ...          2001          2002          2003  \\\n",
       "0     49.17700     48.767000  ...     46.339000     45.972000     45.606000   \n",
       "1  37721.00000  39172.000000  ...  43045.000000  43670.000000  44245.000000   \n",
       "2      4.81157      3.774524  ...      1.391917      1.441529      1.308100   \n",
       "3  76705.00000  80324.000000  ...  92892.000000  94992.000000  97016.000000   \n",
       "4      5.64493      4.610156  ...      2.205163      2.235515      2.108324   \n",
       "\n",
       "           2004           2005           2006           2007           2008  \\\n",
       "0     45.240000      44.875000      44.511000      44.147000      43.783000   \n",
       "1  44672.000000   44888.000000   44880.000000   44688.000000   44379.000000   \n",
       "2      0.960454       0.482359      -0.017824      -0.428725      -0.693862   \n",
       "3  98744.000000  100028.000000  100830.000000  101226.000000  101362.000000   \n",
       "4      1.765473       1.291950       0.798578       0.391971       0.134263   \n",
       "\n",
       "            2009           2010  \n",
       "0      43.421000      43.059000  \n",
       "1   44051.000000   43776.000000  \n",
       "2      -0.741833      -0.626233  \n",
       "3  101452.000000  101665.000000  \n",
       "4       0.088751       0.209731  \n",
       "\n",
       "[5 rows x 26 columns]"
      ]
     },
     "execution_count": 14,
     "metadata": {},
     "output_type": "execute_result"
    }
   ],
   "source": [
    "# Create a new dataframe for records between year 1990 and year 2010\n",
    "\n",
    "dataset = df_world_bank[['Country Name', 'Country Code', 'Indicator Name', 'Indicator Code', '1990', '1991', '1992', '1993', '1994', '1995', '1996', '1997', '1998', '1998', '1999', '2000', '2001', '2002', '2003', '2004', '2005', '2006', '2007', '2008', '2009', '2010']]\n",
    "dataset.head()"
   ]
  },
  {
   "cell_type": "code",
   "execution_count": 15,
   "metadata": {
    "colab": {
     "base_uri": "https://localhost:8080/",
     "height": 206
    },
    "executionInfo": {
     "elapsed": 36,
     "status": "ok",
     "timestamp": 1650992486873,
     "user": {
      "displayName": "Muhammad Abiodun Sulaiman",
      "userId": "02471899085126984945"
     },
     "user_tz": -60
    },
    "id": "NWIbPlUN2Stq",
    "outputId": "5b7529d9-3d1a-4d0d-b2ea-e98fa84aa77c"
   },
   "outputs": [
    {
     "data": {
      "text/html": [
       "<div>\n",
       "<style scoped>\n",
       "    .dataframe tbody tr th:only-of-type {\n",
       "        vertical-align: middle;\n",
       "    }\n",
       "\n",
       "    .dataframe tbody tr th {\n",
       "        vertical-align: top;\n",
       "    }\n",
       "\n",
       "    .dataframe thead th {\n",
       "        text-align: right;\n",
       "    }\n",
       "</style>\n",
       "<table border=\"1\" class=\"dataframe\">\n",
       "  <thead>\n",
       "    <tr style=\"text-align: right;\">\n",
       "      <th></th>\n",
       "      <th>Country Name</th>\n",
       "      <th>Country Code</th>\n",
       "      <th>Indicator Name</th>\n",
       "      <th>Indicator Code</th>\n",
       "      <th>Year</th>\n",
       "      <th>Value</th>\n",
       "    </tr>\n",
       "  </thead>\n",
       "  <tbody>\n",
       "    <tr>\n",
       "      <th>0</th>\n",
       "      <td>Aruba</td>\n",
       "      <td>ABW</td>\n",
       "      <td>Urban population (% of total population)</td>\n",
       "      <td>SP.URB.TOTL.IN.ZS</td>\n",
       "      <td>1990</td>\n",
       "      <td>50.319000</td>\n",
       "    </tr>\n",
       "    <tr>\n",
       "      <th>1</th>\n",
       "      <td>Aruba</td>\n",
       "      <td>ABW</td>\n",
       "      <td>Urban population</td>\n",
       "      <td>SP.URB.TOTL</td>\n",
       "      <td>1990</td>\n",
       "      <td>31274.000000</td>\n",
       "    </tr>\n",
       "    <tr>\n",
       "      <th>2</th>\n",
       "      <td>Aruba</td>\n",
       "      <td>ABW</td>\n",
       "      <td>Urban population growth (annual %)</td>\n",
       "      <td>SP.URB.GROW</td>\n",
       "      <td>1990</td>\n",
       "      <td>1.784062</td>\n",
       "    </tr>\n",
       "    <tr>\n",
       "      <th>3</th>\n",
       "      <td>Aruba</td>\n",
       "      <td>ABW</td>\n",
       "      <td>Population, total</td>\n",
       "      <td>SP.POP.TOTL</td>\n",
       "      <td>1990</td>\n",
       "      <td>62152.000000</td>\n",
       "    </tr>\n",
       "    <tr>\n",
       "      <th>4</th>\n",
       "      <td>Aruba</td>\n",
       "      <td>ABW</td>\n",
       "      <td>Population growth (annual %)</td>\n",
       "      <td>SP.POP.GROW</td>\n",
       "      <td>1990</td>\n",
       "      <td>1.816830</td>\n",
       "    </tr>\n",
       "  </tbody>\n",
       "</table>\n",
       "</div>"
      ],
      "text/plain": [
       "  Country Name Country Code                            Indicator Name  \\\n",
       "0        Aruba          ABW  Urban population (% of total population)   \n",
       "1        Aruba          ABW                          Urban population   \n",
       "2        Aruba          ABW        Urban population growth (annual %)   \n",
       "3        Aruba          ABW                         Population, total   \n",
       "4        Aruba          ABW              Population growth (annual %)   \n",
       "\n",
       "      Indicator Code  Year         Value  \n",
       "0  SP.URB.TOTL.IN.ZS  1990     50.319000  \n",
       "1        SP.URB.TOTL  1990  31274.000000  \n",
       "2        SP.URB.GROW  1990      1.784062  \n",
       "3        SP.POP.TOTL  1990  62152.000000  \n",
       "4        SP.POP.GROW  1990      1.816830  "
      ]
     },
     "execution_count": 15,
     "metadata": {},
     "output_type": "execute_result"
    }
   ],
   "source": [
    "# Melt the dataframe to convert the year columns into a single column\n",
    "\n",
    "dataset = dataset.melt(id_vars=['Country Name', 'Country Code', 'Indicator Name', 'Indicator Code'], var_name='Year', value_name='Value')\n",
    "dataset.head()"
   ]
  },
  {
   "cell_type": "code",
   "execution_count": 16,
   "metadata": {
    "colab": {
     "base_uri": "https://localhost:8080/",
     "height": 206
    },
    "executionInfo": {
     "elapsed": 612,
     "status": "ok",
     "timestamp": 1650992495190,
     "user": {
      "displayName": "Muhammad Abiodun Sulaiman",
      "userId": "02471899085126984945"
     },
     "user_tz": -60
    },
    "id": "FUFxZF612Stu",
    "outputId": "58a27812-b51e-4ccc-828b-be99d5e1440d"
   },
   "outputs": [
    {
     "data": {
      "text/html": [
       "<div>\n",
       "<style scoped>\n",
       "    .dataframe tbody tr th:only-of-type {\n",
       "        vertical-align: middle;\n",
       "    }\n",
       "\n",
       "    .dataframe tbody tr th {\n",
       "        vertical-align: top;\n",
       "    }\n",
       "\n",
       "    .dataframe thead th {\n",
       "        text-align: right;\n",
       "    }\n",
       "</style>\n",
       "<table border=\"1\" class=\"dataframe\">\n",
       "  <thead>\n",
       "    <tr style=\"text-align: right;\">\n",
       "      <th></th>\n",
       "      <th>Country Name</th>\n",
       "      <th>Country Code</th>\n",
       "      <th>Indicator Name</th>\n",
       "      <th>Indicator Code</th>\n",
       "      <th>Year</th>\n",
       "      <th>Value</th>\n",
       "    </tr>\n",
       "  </thead>\n",
       "  <tbody>\n",
       "    <tr>\n",
       "      <th>61</th>\n",
       "      <td>Aruba</td>\n",
       "      <td>ABW</td>\n",
       "      <td>Access to electricity (% of population)</td>\n",
       "      <td>EG.ELC.ACCS.ZS</td>\n",
       "      <td>1990</td>\n",
       "      <td>100.0</td>\n",
       "    </tr>\n",
       "    <tr>\n",
       "      <th>137</th>\n",
       "      <td>Africa Eastern and Southern</td>\n",
       "      <td>AFE</td>\n",
       "      <td>Access to electricity (% of population)</td>\n",
       "      <td>EG.ELC.ACCS.ZS</td>\n",
       "      <td>1990</td>\n",
       "      <td>NaN</td>\n",
       "    </tr>\n",
       "    <tr>\n",
       "      <th>213</th>\n",
       "      <td>Afghanistan</td>\n",
       "      <td>AFG</td>\n",
       "      <td>Access to electricity (% of population)</td>\n",
       "      <td>EG.ELC.ACCS.ZS</td>\n",
       "      <td>1990</td>\n",
       "      <td>NaN</td>\n",
       "    </tr>\n",
       "    <tr>\n",
       "      <th>289</th>\n",
       "      <td>Africa Western and Central</td>\n",
       "      <td>AFW</td>\n",
       "      <td>Access to electricity (% of population)</td>\n",
       "      <td>EG.ELC.ACCS.ZS</td>\n",
       "      <td>1990</td>\n",
       "      <td>NaN</td>\n",
       "    </tr>\n",
       "    <tr>\n",
       "      <th>365</th>\n",
       "      <td>Angola</td>\n",
       "      <td>AGO</td>\n",
       "      <td>Access to electricity (% of population)</td>\n",
       "      <td>EG.ELC.ACCS.ZS</td>\n",
       "      <td>1990</td>\n",
       "      <td>NaN</td>\n",
       "    </tr>\n",
       "  </tbody>\n",
       "</table>\n",
       "</div>"
      ],
      "text/plain": [
       "                    Country Name Country Code  \\\n",
       "61                         Aruba          ABW   \n",
       "137  Africa Eastern and Southern          AFE   \n",
       "213                  Afghanistan          AFG   \n",
       "289   Africa Western and Central          AFW   \n",
       "365                       Angola          AGO   \n",
       "\n",
       "                              Indicator Name  Indicator Code  Year  Value  \n",
       "61   Access to electricity (% of population)  EG.ELC.ACCS.ZS  1990  100.0  \n",
       "137  Access to electricity (% of population)  EG.ELC.ACCS.ZS  1990    NaN  \n",
       "213  Access to electricity (% of population)  EG.ELC.ACCS.ZS  1990    NaN  \n",
       "289  Access to electricity (% of population)  EG.ELC.ACCS.ZS  1990    NaN  \n",
       "365  Access to electricity (% of population)  EG.ELC.ACCS.ZS  1990    NaN  "
      ]
     },
     "execution_count": 16,
     "metadata": {},
     "output_type": "execute_result"
    }
   ],
   "source": [
    "# Extracting only the needed indicators from the dataframe.\n",
    "# Here , arable land and forest area are the chosen indicators for this assignment\n",
    "\n",
    "df_elect = dataset[(dataset['Indicator Name'] == \"Access to electricity (% of population)\")]\n",
    "df_popul = dataset[(dataset['Indicator Name'] == \"Population, total\")]\n",
    "\n",
    "# Check the first five records\n",
    "df_elect.head()"
   ]
  },
  {
   "cell_type": "code",
   "execution_count": 17,
   "metadata": {
    "colab": {
     "base_uri": "https://localhost:8080/",
     "height": 206
    },
    "executionInfo": {
     "elapsed": 527,
     "status": "ok",
     "timestamp": 1650992500294,
     "user": {
      "displayName": "Muhammad Abiodun Sulaiman",
      "userId": "02471899085126984945"
     },
     "user_tz": -60
    },
    "id": "MYHuadyJ2Sty",
    "outputId": "75f5005f-b550-4b85-94ae-4027044afe82"
   },
   "outputs": [
    {
     "data": {
      "text/html": [
       "<div>\n",
       "<style scoped>\n",
       "    .dataframe tbody tr th:only-of-type {\n",
       "        vertical-align: middle;\n",
       "    }\n",
       "\n",
       "    .dataframe tbody tr th {\n",
       "        vertical-align: top;\n",
       "    }\n",
       "\n",
       "    .dataframe thead th {\n",
       "        text-align: right;\n",
       "    }\n",
       "</style>\n",
       "<table border=\"1\" class=\"dataframe\">\n",
       "  <thead>\n",
       "    <tr style=\"text-align: right;\">\n",
       "      <th></th>\n",
       "      <th>Country Name</th>\n",
       "      <th>Country Code</th>\n",
       "      <th>Indicator Name</th>\n",
       "      <th>Indicator Code</th>\n",
       "      <th>Year</th>\n",
       "      <th>Value</th>\n",
       "    </tr>\n",
       "  </thead>\n",
       "  <tbody>\n",
       "    <tr>\n",
       "      <th>3</th>\n",
       "      <td>Aruba</td>\n",
       "      <td>ABW</td>\n",
       "      <td>Population, total</td>\n",
       "      <td>SP.POP.TOTL</td>\n",
       "      <td>1990</td>\n",
       "      <td>62152.0</td>\n",
       "    </tr>\n",
       "    <tr>\n",
       "      <th>79</th>\n",
       "      <td>Africa Eastern and Southern</td>\n",
       "      <td>AFE</td>\n",
       "      <td>Population, total</td>\n",
       "      <td>SP.POP.TOTL</td>\n",
       "      <td>1990</td>\n",
       "      <td>304648010.0</td>\n",
       "    </tr>\n",
       "    <tr>\n",
       "      <th>155</th>\n",
       "      <td>Afghanistan</td>\n",
       "      <td>AFG</td>\n",
       "      <td>Population, total</td>\n",
       "      <td>SP.POP.TOTL</td>\n",
       "      <td>1990</td>\n",
       "      <td>12412311.0</td>\n",
       "    </tr>\n",
       "    <tr>\n",
       "      <th>231</th>\n",
       "      <td>Africa Western and Central</td>\n",
       "      <td>AFW</td>\n",
       "      <td>Population, total</td>\n",
       "      <td>SP.POP.TOTL</td>\n",
       "      <td>1990</td>\n",
       "      <td>204803865.0</td>\n",
       "    </tr>\n",
       "    <tr>\n",
       "      <th>307</th>\n",
       "      <td>Angola</td>\n",
       "      <td>AGO</td>\n",
       "      <td>Population, total</td>\n",
       "      <td>SP.POP.TOTL</td>\n",
       "      <td>1990</td>\n",
       "      <td>11848385.0</td>\n",
       "    </tr>\n",
       "  </tbody>\n",
       "</table>\n",
       "</div>"
      ],
      "text/plain": [
       "                    Country Name Country Code     Indicator Name  \\\n",
       "3                          Aruba          ABW  Population, total   \n",
       "79   Africa Eastern and Southern          AFE  Population, total   \n",
       "155                  Afghanistan          AFG  Population, total   \n",
       "231   Africa Western and Central          AFW  Population, total   \n",
       "307                       Angola          AGO  Population, total   \n",
       "\n",
       "    Indicator Code  Year        Value  \n",
       "3      SP.POP.TOTL  1990      62152.0  \n",
       "79     SP.POP.TOTL  1990  304648010.0  \n",
       "155    SP.POP.TOTL  1990   12412311.0  \n",
       "231    SP.POP.TOTL  1990  204803865.0  \n",
       "307    SP.POP.TOTL  1990   11848385.0  "
      ]
     },
     "execution_count": 17,
     "metadata": {},
     "output_type": "execute_result"
    }
   ],
   "source": [
    "# Check the first five records\n",
    "\n",
    "df_popul.head()"
   ]
  },
  {
   "cell_type": "code",
   "execution_count": 18,
   "metadata": {
    "colab": {
     "base_uri": "https://localhost:8080/",
     "height": 206
    },
    "executionInfo": {
     "elapsed": 737,
     "status": "ok",
     "timestamp": 1650992503211,
     "user": {
      "displayName": "Muhammad Abiodun Sulaiman",
      "userId": "02471899085126984945"
     },
     "user_tz": -60
    },
    "id": "NTGXQJcn2St1",
    "outputId": "13856bb7-3358-4368-8e45-9c0591f78c63"
   },
   "outputs": [
    {
     "data": {
      "text/html": [
       "<div>\n",
       "<style scoped>\n",
       "    .dataframe tbody tr th:only-of-type {\n",
       "        vertical-align: middle;\n",
       "    }\n",
       "\n",
       "    .dataframe tbody tr th {\n",
       "        vertical-align: top;\n",
       "    }\n",
       "\n",
       "    .dataframe thead th {\n",
       "        text-align: right;\n",
       "    }\n",
       "</style>\n",
       "<table border=\"1\" class=\"dataframe\">\n",
       "  <thead>\n",
       "    <tr style=\"text-align: right;\">\n",
       "      <th></th>\n",
       "      <th>Country Name</th>\n",
       "      <th>Country Code</th>\n",
       "      <th>Indicator Name_x</th>\n",
       "      <th>Indicator Code_x</th>\n",
       "      <th>Year</th>\n",
       "      <th>Value_x</th>\n",
       "      <th>Indicator Name_y</th>\n",
       "      <th>Indicator Code_y</th>\n",
       "      <th>Value_y</th>\n",
       "    </tr>\n",
       "  </thead>\n",
       "  <tbody>\n",
       "    <tr>\n",
       "      <th>0</th>\n",
       "      <td>Aruba</td>\n",
       "      <td>ABW</td>\n",
       "      <td>Access to electricity (% of population)</td>\n",
       "      <td>EG.ELC.ACCS.ZS</td>\n",
       "      <td>1990</td>\n",
       "      <td>100.0</td>\n",
       "      <td>Population, total</td>\n",
       "      <td>SP.POP.TOTL</td>\n",
       "      <td>62152.0</td>\n",
       "    </tr>\n",
       "    <tr>\n",
       "      <th>1</th>\n",
       "      <td>Africa Eastern and Southern</td>\n",
       "      <td>AFE</td>\n",
       "      <td>Access to electricity (% of population)</td>\n",
       "      <td>EG.ELC.ACCS.ZS</td>\n",
       "      <td>1990</td>\n",
       "      <td>NaN</td>\n",
       "      <td>Population, total</td>\n",
       "      <td>SP.POP.TOTL</td>\n",
       "      <td>304648010.0</td>\n",
       "    </tr>\n",
       "    <tr>\n",
       "      <th>2</th>\n",
       "      <td>Afghanistan</td>\n",
       "      <td>AFG</td>\n",
       "      <td>Access to electricity (% of population)</td>\n",
       "      <td>EG.ELC.ACCS.ZS</td>\n",
       "      <td>1990</td>\n",
       "      <td>NaN</td>\n",
       "      <td>Population, total</td>\n",
       "      <td>SP.POP.TOTL</td>\n",
       "      <td>12412311.0</td>\n",
       "    </tr>\n",
       "    <tr>\n",
       "      <th>3</th>\n",
       "      <td>Africa Western and Central</td>\n",
       "      <td>AFW</td>\n",
       "      <td>Access to electricity (% of population)</td>\n",
       "      <td>EG.ELC.ACCS.ZS</td>\n",
       "      <td>1990</td>\n",
       "      <td>NaN</td>\n",
       "      <td>Population, total</td>\n",
       "      <td>SP.POP.TOTL</td>\n",
       "      <td>204803865.0</td>\n",
       "    </tr>\n",
       "    <tr>\n",
       "      <th>4</th>\n",
       "      <td>Angola</td>\n",
       "      <td>AGO</td>\n",
       "      <td>Access to electricity (% of population)</td>\n",
       "      <td>EG.ELC.ACCS.ZS</td>\n",
       "      <td>1990</td>\n",
       "      <td>NaN</td>\n",
       "      <td>Population, total</td>\n",
       "      <td>SP.POP.TOTL</td>\n",
       "      <td>11848385.0</td>\n",
       "    </tr>\n",
       "  </tbody>\n",
       "</table>\n",
       "</div>"
      ],
      "text/plain": [
       "                  Country Name Country Code  \\\n",
       "0                        Aruba          ABW   \n",
       "1  Africa Eastern and Southern          AFE   \n",
       "2                  Afghanistan          AFG   \n",
       "3   Africa Western and Central          AFW   \n",
       "4                       Angola          AGO   \n",
       "\n",
       "                          Indicator Name_x Indicator Code_x  Year  Value_x  \\\n",
       "0  Access to electricity (% of population)   EG.ELC.ACCS.ZS  1990    100.0   \n",
       "1  Access to electricity (% of population)   EG.ELC.ACCS.ZS  1990      NaN   \n",
       "2  Access to electricity (% of population)   EG.ELC.ACCS.ZS  1990      NaN   \n",
       "3  Access to electricity (% of population)   EG.ELC.ACCS.ZS  1990      NaN   \n",
       "4  Access to electricity (% of population)   EG.ELC.ACCS.ZS  1990      NaN   \n",
       "\n",
       "    Indicator Name_y Indicator Code_y      Value_y  \n",
       "0  Population, total      SP.POP.TOTL      62152.0  \n",
       "1  Population, total      SP.POP.TOTL  304648010.0  \n",
       "2  Population, total      SP.POP.TOTL   12412311.0  \n",
       "3  Population, total      SP.POP.TOTL  204803865.0  \n",
       "4  Population, total      SP.POP.TOTL   11848385.0  "
      ]
     },
     "execution_count": 18,
     "metadata": {},
     "output_type": "execute_result"
    }
   ],
   "source": [
    "# Merge the two dataframes to make one dataframe\n",
    "\n",
    "df_merged = df_elect.merge(df_popul, on=['Country Name', 'Country Code', 'Year'])\n",
    "df_merged.head()"
   ]
  },
  {
   "cell_type": "code",
   "execution_count": 19,
   "metadata": {
    "colab": {
     "base_uri": "https://localhost:8080/",
     "height": 355
    },
    "executionInfo": {
     "elapsed": 627,
     "status": "ok",
     "timestamp": 1650992510089,
     "user": {
      "displayName": "Muhammad Abiodun Sulaiman",
      "userId": "02471899085126984945"
     },
     "user_tz": -60
    },
    "id": "n--ZfcoG2St6",
    "outputId": "c6bfaa95-bfeb-4041-bca2-5e33b4ab719f"
   },
   "outputs": [
    {
     "data": {
      "text/html": [
       "<div>\n",
       "<style scoped>\n",
       "    .dataframe tbody tr th:only-of-type {\n",
       "        vertical-align: middle;\n",
       "    }\n",
       "\n",
       "    .dataframe tbody tr th {\n",
       "        vertical-align: top;\n",
       "    }\n",
       "\n",
       "    .dataframe thead th {\n",
       "        text-align: right;\n",
       "    }\n",
       "</style>\n",
       "<table border=\"1\" class=\"dataframe\">\n",
       "  <thead>\n",
       "    <tr style=\"text-align: right;\">\n",
       "      <th></th>\n",
       "      <th>Country Name</th>\n",
       "      <th>Country Code</th>\n",
       "      <th>Indicator Name_x</th>\n",
       "      <th>Indicator Code_x</th>\n",
       "      <th>Year</th>\n",
       "      <th>Access to electricity (% of population))</th>\n",
       "      <th>Indicator Name_y</th>\n",
       "      <th>Indicator Code_y</th>\n",
       "      <th>Population (total)</th>\n",
       "    </tr>\n",
       "  </thead>\n",
       "  <tbody>\n",
       "    <tr>\n",
       "      <th>0</th>\n",
       "      <td>Aruba</td>\n",
       "      <td>ABW</td>\n",
       "      <td>Access to electricity (% of population)</td>\n",
       "      <td>EG.ELC.ACCS.ZS</td>\n",
       "      <td>1990</td>\n",
       "      <td>100.0</td>\n",
       "      <td>Population, total</td>\n",
       "      <td>SP.POP.TOTL</td>\n",
       "      <td>62152.0</td>\n",
       "    </tr>\n",
       "    <tr>\n",
       "      <th>1</th>\n",
       "      <td>Africa Eastern and Southern</td>\n",
       "      <td>AFE</td>\n",
       "      <td>Access to electricity (% of population)</td>\n",
       "      <td>EG.ELC.ACCS.ZS</td>\n",
       "      <td>1990</td>\n",
       "      <td>NaN</td>\n",
       "      <td>Population, total</td>\n",
       "      <td>SP.POP.TOTL</td>\n",
       "      <td>304648010.0</td>\n",
       "    </tr>\n",
       "    <tr>\n",
       "      <th>2</th>\n",
       "      <td>Afghanistan</td>\n",
       "      <td>AFG</td>\n",
       "      <td>Access to electricity (% of population)</td>\n",
       "      <td>EG.ELC.ACCS.ZS</td>\n",
       "      <td>1990</td>\n",
       "      <td>NaN</td>\n",
       "      <td>Population, total</td>\n",
       "      <td>SP.POP.TOTL</td>\n",
       "      <td>12412311.0</td>\n",
       "    </tr>\n",
       "    <tr>\n",
       "      <th>3</th>\n",
       "      <td>Africa Western and Central</td>\n",
       "      <td>AFW</td>\n",
       "      <td>Access to electricity (% of population)</td>\n",
       "      <td>EG.ELC.ACCS.ZS</td>\n",
       "      <td>1990</td>\n",
       "      <td>NaN</td>\n",
       "      <td>Population, total</td>\n",
       "      <td>SP.POP.TOTL</td>\n",
       "      <td>204803865.0</td>\n",
       "    </tr>\n",
       "    <tr>\n",
       "      <th>4</th>\n",
       "      <td>Angola</td>\n",
       "      <td>AGO</td>\n",
       "      <td>Access to electricity (% of population)</td>\n",
       "      <td>EG.ELC.ACCS.ZS</td>\n",
       "      <td>1990</td>\n",
       "      <td>NaN</td>\n",
       "      <td>Population, total</td>\n",
       "      <td>SP.POP.TOTL</td>\n",
       "      <td>11848385.0</td>\n",
       "    </tr>\n",
       "  </tbody>\n",
       "</table>\n",
       "</div>"
      ],
      "text/plain": [
       "                  Country Name Country Code  \\\n",
       "0                        Aruba          ABW   \n",
       "1  Africa Eastern and Southern          AFE   \n",
       "2                  Afghanistan          AFG   \n",
       "3   Africa Western and Central          AFW   \n",
       "4                       Angola          AGO   \n",
       "\n",
       "                          Indicator Name_x Indicator Code_x  Year  \\\n",
       "0  Access to electricity (% of population)   EG.ELC.ACCS.ZS  1990   \n",
       "1  Access to electricity (% of population)   EG.ELC.ACCS.ZS  1990   \n",
       "2  Access to electricity (% of population)   EG.ELC.ACCS.ZS  1990   \n",
       "3  Access to electricity (% of population)   EG.ELC.ACCS.ZS  1990   \n",
       "4  Access to electricity (% of population)   EG.ELC.ACCS.ZS  1990   \n",
       "\n",
       "   Access to electricity (% of population))   Indicator Name_y  \\\n",
       "0                                     100.0  Population, total   \n",
       "1                                       NaN  Population, total   \n",
       "2                                       NaN  Population, total   \n",
       "3                                       NaN  Population, total   \n",
       "4                                       NaN  Population, total   \n",
       "\n",
       "  Indicator Code_y  Population (total)  \n",
       "0      SP.POP.TOTL             62152.0  \n",
       "1      SP.POP.TOTL         304648010.0  \n",
       "2      SP.POP.TOTL          12412311.0  \n",
       "3      SP.POP.TOTL         204803865.0  \n",
       "4      SP.POP.TOTL          11848385.0  "
      ]
     },
     "execution_count": 19,
     "metadata": {},
     "output_type": "execute_result"
    }
   ],
   "source": [
    "# Renamme columns\n",
    "\n",
    "df_merged.rename(columns={'Value_x':'Access to electricity (% of population))', 'Value_y':'Population (total)'}, inplace=True)\n",
    "df_merged.head()"
   ]
  },
  {
   "cell_type": "code",
   "execution_count": 20,
   "metadata": {
    "colab": {
     "base_uri": "https://localhost:8080/",
     "height": 206
    },
    "executionInfo": {
     "elapsed": 534,
     "status": "ok",
     "timestamp": 1650992514276,
     "user": {
      "displayName": "Muhammad Abiodun Sulaiman",
      "userId": "02471899085126984945"
     },
     "user_tz": -60
    },
    "id": "KuD3mRPluu_P",
    "outputId": "0049db6a-6847-4936-bba9-7e095a9b6299"
   },
   "outputs": [
    {
     "data": {
      "text/html": [
       "<div>\n",
       "<style scoped>\n",
       "    .dataframe tbody tr th:only-of-type {\n",
       "        vertical-align: middle;\n",
       "    }\n",
       "\n",
       "    .dataframe tbody tr th {\n",
       "        vertical-align: top;\n",
       "    }\n",
       "\n",
       "    .dataframe thead th {\n",
       "        text-align: right;\n",
       "    }\n",
       "</style>\n",
       "<table border=\"1\" class=\"dataframe\">\n",
       "  <thead>\n",
       "    <tr style=\"text-align: right;\">\n",
       "      <th></th>\n",
       "      <th>Country Name</th>\n",
       "      <th>Country Code</th>\n",
       "      <th>Indicator Name_x</th>\n",
       "      <th>Year</th>\n",
       "      <th>Access to electricity (% of population))</th>\n",
       "      <th>Indicator Name_y</th>\n",
       "      <th>Population (total)</th>\n",
       "    </tr>\n",
       "  </thead>\n",
       "  <tbody>\n",
       "    <tr>\n",
       "      <th>0</th>\n",
       "      <td>Aruba</td>\n",
       "      <td>ABW</td>\n",
       "      <td>Access to electricity (% of population)</td>\n",
       "      <td>1990</td>\n",
       "      <td>100.0</td>\n",
       "      <td>Population, total</td>\n",
       "      <td>62152.0</td>\n",
       "    </tr>\n",
       "    <tr>\n",
       "      <th>1</th>\n",
       "      <td>Africa Eastern and Southern</td>\n",
       "      <td>AFE</td>\n",
       "      <td>Access to electricity (% of population)</td>\n",
       "      <td>1990</td>\n",
       "      <td>NaN</td>\n",
       "      <td>Population, total</td>\n",
       "      <td>304648010.0</td>\n",
       "    </tr>\n",
       "    <tr>\n",
       "      <th>2</th>\n",
       "      <td>Afghanistan</td>\n",
       "      <td>AFG</td>\n",
       "      <td>Access to electricity (% of population)</td>\n",
       "      <td>1990</td>\n",
       "      <td>NaN</td>\n",
       "      <td>Population, total</td>\n",
       "      <td>12412311.0</td>\n",
       "    </tr>\n",
       "    <tr>\n",
       "      <th>3</th>\n",
       "      <td>Africa Western and Central</td>\n",
       "      <td>AFW</td>\n",
       "      <td>Access to electricity (% of population)</td>\n",
       "      <td>1990</td>\n",
       "      <td>NaN</td>\n",
       "      <td>Population, total</td>\n",
       "      <td>204803865.0</td>\n",
       "    </tr>\n",
       "    <tr>\n",
       "      <th>4</th>\n",
       "      <td>Angola</td>\n",
       "      <td>AGO</td>\n",
       "      <td>Access to electricity (% of population)</td>\n",
       "      <td>1990</td>\n",
       "      <td>NaN</td>\n",
       "      <td>Population, total</td>\n",
       "      <td>11848385.0</td>\n",
       "    </tr>\n",
       "  </tbody>\n",
       "</table>\n",
       "</div>"
      ],
      "text/plain": [
       "                  Country Name Country Code  \\\n",
       "0                        Aruba          ABW   \n",
       "1  Africa Eastern and Southern          AFE   \n",
       "2                  Afghanistan          AFG   \n",
       "3   Africa Western and Central          AFW   \n",
       "4                       Angola          AGO   \n",
       "\n",
       "                          Indicator Name_x  Year  \\\n",
       "0  Access to electricity (% of population)  1990   \n",
       "1  Access to electricity (% of population)  1990   \n",
       "2  Access to electricity (% of population)  1990   \n",
       "3  Access to electricity (% of population)  1990   \n",
       "4  Access to electricity (% of population)  1990   \n",
       "\n",
       "   Access to electricity (% of population))   Indicator Name_y  \\\n",
       "0                                     100.0  Population, total   \n",
       "1                                       NaN  Population, total   \n",
       "2                                       NaN  Population, total   \n",
       "3                                       NaN  Population, total   \n",
       "4                                       NaN  Population, total   \n",
       "\n",
       "   Population (total)  \n",
       "0             62152.0  \n",
       "1         304648010.0  \n",
       "2          12412311.0  \n",
       "3         204803865.0  \n",
       "4          11848385.0  "
      ]
     },
     "execution_count": 20,
     "metadata": {},
     "output_type": "execute_result"
    }
   ],
   "source": [
    "# Drop the columns not needed for our analysis\n",
    "\n",
    "df_merged = drop_columns(df_merged, ['Indicator Code_x', 'Indicator Code_y'])\n",
    "df_merged.head()"
   ]
  },
  {
   "cell_type": "code",
   "execution_count": 21,
   "metadata": {
    "colab": {
     "base_uri": "https://localhost:8080/",
     "height": 206
    },
    "executionInfo": {
     "elapsed": 47,
     "status": "ok",
     "timestamp": 1650992516644,
     "user": {
      "displayName": "Muhammad Abiodun Sulaiman",
      "userId": "02471899085126984945"
     },
     "user_tz": -60
    },
    "id": "B2D01sxz2SuB",
    "outputId": "23d0e427-c2b3-4e5f-ec15-19025b5b46b6"
   },
   "outputs": [
    {
     "data": {
      "text/html": [
       "<div>\n",
       "<style scoped>\n",
       "    .dataframe tbody tr th:only-of-type {\n",
       "        vertical-align: middle;\n",
       "    }\n",
       "\n",
       "    .dataframe tbody tr th {\n",
       "        vertical-align: top;\n",
       "    }\n",
       "\n",
       "    .dataframe thead th {\n",
       "        text-align: right;\n",
       "    }\n",
       "</style>\n",
       "<table border=\"1\" class=\"dataframe\">\n",
       "  <thead>\n",
       "    <tr style=\"text-align: right;\">\n",
       "      <th></th>\n",
       "      <th>Country Name</th>\n",
       "      <th>Country Code</th>\n",
       "      <th>Indicator Name_x</th>\n",
       "      <th>Year</th>\n",
       "      <th>Access to electricity (% of population))</th>\n",
       "      <th>Indicator Name_y</th>\n",
       "      <th>Population (total)</th>\n",
       "    </tr>\n",
       "  </thead>\n",
       "  <tbody>\n",
       "    <tr>\n",
       "      <th>0</th>\n",
       "      <td>Aruba</td>\n",
       "      <td>ABW</td>\n",
       "      <td>Access to electricity (% of population)</td>\n",
       "      <td>1990</td>\n",
       "      <td>100.000000</td>\n",
       "      <td>Population, total</td>\n",
       "      <td>62152.0</td>\n",
       "    </tr>\n",
       "    <tr>\n",
       "      <th>1</th>\n",
       "      <td>Aruba</td>\n",
       "      <td>ABW</td>\n",
       "      <td>Access to electricity (% of population)</td>\n",
       "      <td>1991</td>\n",
       "      <td>99.153656</td>\n",
       "      <td>Population, total</td>\n",
       "      <td>64623.0</td>\n",
       "    </tr>\n",
       "    <tr>\n",
       "      <th>2</th>\n",
       "      <td>Aruba</td>\n",
       "      <td>ABW</td>\n",
       "      <td>Access to electricity (% of population)</td>\n",
       "      <td>1992</td>\n",
       "      <td>99.197128</td>\n",
       "      <td>Population, total</td>\n",
       "      <td>68240.0</td>\n",
       "    </tr>\n",
       "    <tr>\n",
       "      <th>3</th>\n",
       "      <td>Aruba</td>\n",
       "      <td>ABW</td>\n",
       "      <td>Access to electricity (% of population)</td>\n",
       "      <td>1993</td>\n",
       "      <td>99.239914</td>\n",
       "      <td>Population, total</td>\n",
       "      <td>72495.0</td>\n",
       "    </tr>\n",
       "    <tr>\n",
       "      <th>4</th>\n",
       "      <td>Aruba</td>\n",
       "      <td>ABW</td>\n",
       "      <td>Access to electricity (% of population)</td>\n",
       "      <td>1994</td>\n",
       "      <td>100.000000</td>\n",
       "      <td>Population, total</td>\n",
       "      <td>76705.0</td>\n",
       "    </tr>\n",
       "  </tbody>\n",
       "</table>\n",
       "</div>"
      ],
      "text/plain": [
       "  Country Name Country Code                         Indicator Name_x  Year  \\\n",
       "0        Aruba          ABW  Access to electricity (% of population)  1990   \n",
       "1        Aruba          ABW  Access to electricity (% of population)  1991   \n",
       "2        Aruba          ABW  Access to electricity (% of population)  1992   \n",
       "3        Aruba          ABW  Access to electricity (% of population)  1993   \n",
       "4        Aruba          ABW  Access to electricity (% of population)  1994   \n",
       "\n",
       "   Access to electricity (% of population))   Indicator Name_y  \\\n",
       "0                                100.000000  Population, total   \n",
       "1                                 99.153656  Population, total   \n",
       "2                                 99.197128  Population, total   \n",
       "3                                 99.239914  Population, total   \n",
       "4                                100.000000  Population, total   \n",
       "\n",
       "   Population (total)  \n",
       "0             62152.0  \n",
       "1             64623.0  \n",
       "2             68240.0  \n",
       "3             72495.0  \n",
       "4             76705.0  "
      ]
     },
     "execution_count": 21,
     "metadata": {},
     "output_type": "execute_result"
    }
   ],
   "source": [
    "# Create a new dataframe by merging the world dataframe with the existing dataframe\n",
    "\n",
    "df_final = df_merged.merge(df_countries_final, on=['Country Name', 'Country Code',])\n",
    "df_final.head()"
   ]
  },
  {
   "cell_type": "code",
   "execution_count": 22,
   "metadata": {
    "colab": {
     "base_uri": "https://localhost:8080/",
     "height": 206
    },
    "executionInfo": {
     "elapsed": 633,
     "status": "ok",
     "timestamp": 1650992523090,
     "user": {
      "displayName": "Muhammad Abiodun Sulaiman",
      "userId": "02471899085126984945"
     },
     "user_tz": -60
    },
    "id": "mU8WcBrl2SuD",
    "outputId": "99e0069c-06cf-4c86-bafa-5a9224b40d48"
   },
   "outputs": [
    {
     "data": {
      "text/html": [
       "<div>\n",
       "<style scoped>\n",
       "    .dataframe tbody tr th:only-of-type {\n",
       "        vertical-align: middle;\n",
       "    }\n",
       "\n",
       "    .dataframe tbody tr th {\n",
       "        vertical-align: top;\n",
       "    }\n",
       "\n",
       "    .dataframe thead th {\n",
       "        text-align: right;\n",
       "    }\n",
       "</style>\n",
       "<table border=\"1\" class=\"dataframe\">\n",
       "  <thead>\n",
       "    <tr style=\"text-align: right;\">\n",
       "      <th></th>\n",
       "      <th>Country Name</th>\n",
       "      <th>Country Code</th>\n",
       "      <th>Year</th>\n",
       "      <th>Access to electricity (% of population))</th>\n",
       "      <th>Population (total)</th>\n",
       "    </tr>\n",
       "  </thead>\n",
       "  <tbody>\n",
       "    <tr>\n",
       "      <th>0</th>\n",
       "      <td>Aruba</td>\n",
       "      <td>ABW</td>\n",
       "      <td>1990</td>\n",
       "      <td>100.000000</td>\n",
       "      <td>62152.0</td>\n",
       "    </tr>\n",
       "    <tr>\n",
       "      <th>1</th>\n",
       "      <td>Aruba</td>\n",
       "      <td>ABW</td>\n",
       "      <td>1991</td>\n",
       "      <td>99.153656</td>\n",
       "      <td>64623.0</td>\n",
       "    </tr>\n",
       "    <tr>\n",
       "      <th>2</th>\n",
       "      <td>Aruba</td>\n",
       "      <td>ABW</td>\n",
       "      <td>1992</td>\n",
       "      <td>99.197128</td>\n",
       "      <td>68240.0</td>\n",
       "    </tr>\n",
       "    <tr>\n",
       "      <th>3</th>\n",
       "      <td>Aruba</td>\n",
       "      <td>ABW</td>\n",
       "      <td>1993</td>\n",
       "      <td>99.239914</td>\n",
       "      <td>72495.0</td>\n",
       "    </tr>\n",
       "    <tr>\n",
       "      <th>4</th>\n",
       "      <td>Aruba</td>\n",
       "      <td>ABW</td>\n",
       "      <td>1994</td>\n",
       "      <td>100.000000</td>\n",
       "      <td>76705.0</td>\n",
       "    </tr>\n",
       "  </tbody>\n",
       "</table>\n",
       "</div>"
      ],
      "text/plain": [
       "  Country Name Country Code  Year  Access to electricity (% of population))  \\\n",
       "0        Aruba          ABW  1990                                100.000000   \n",
       "1        Aruba          ABW  1991                                 99.153656   \n",
       "2        Aruba          ABW  1992                                 99.197128   \n",
       "3        Aruba          ABW  1993                                 99.239914   \n",
       "4        Aruba          ABW  1994                                100.000000   \n",
       "\n",
       "   Population (total)  \n",
       "0             62152.0  \n",
       "1             64623.0  \n",
       "2             68240.0  \n",
       "3             72495.0  \n",
       "4             76705.0  "
      ]
     },
     "execution_count": 22,
     "metadata": {},
     "output_type": "execute_result"
    }
   ],
   "source": [
    "# Drop Columns not needed in the dataframe\n",
    "\n",
    "df_final = drop_columns(df_final, ['Indicator Name_x', 'Indicator Name_y', ])\n",
    "df_final.head()"
   ]
  },
  {
   "cell_type": "code",
   "execution_count": 23,
   "metadata": {
    "colab": {
     "base_uri": "https://localhost:8080/"
    },
    "executionInfo": {
     "elapsed": 460,
     "status": "ok",
     "timestamp": 1650992528841,
     "user": {
      "displayName": "Muhammad Abiodun Sulaiman",
      "userId": "02471899085126984945"
     },
     "user_tz": -60
    },
    "id": "36j79r46uu_S",
    "outputId": "5d08f2bf-0bd0-4ef9-a720-5a7b840a7fe9"
   },
   "outputs": [
    {
     "data": {
      "text/plain": [
       "(4416, 5)"
      ]
     },
     "execution_count": 23,
     "metadata": {},
     "output_type": "execute_result"
    }
   ],
   "source": [
    "# Check for the number of observations (rows) and attributes (columns) in the dataframe\n",
    "\n",
    "df_final.shape"
   ]
  },
  {
   "cell_type": "code",
   "execution_count": 24,
   "metadata": {
    "colab": {
     "base_uri": "https://localhost:8080/",
     "height": 300
    },
    "executionInfo": {
     "elapsed": 47,
     "status": "ok",
     "timestamp": 1650992530945,
     "user": {
      "displayName": "Muhammad Abiodun Sulaiman",
      "userId": "02471899085126984945"
     },
     "user_tz": -60
    },
    "id": "Tv-I2TKD5zbF",
    "outputId": "f71bc6e2-efe1-442b-cbd7-465ce2f7343d"
   },
   "outputs": [
    {
     "data": {
      "text/html": [
       "<div>\n",
       "<style scoped>\n",
       "    .dataframe tbody tr th:only-of-type {\n",
       "        vertical-align: middle;\n",
       "    }\n",
       "\n",
       "    .dataframe tbody tr th {\n",
       "        vertical-align: top;\n",
       "    }\n",
       "\n",
       "    .dataframe thead th {\n",
       "        text-align: right;\n",
       "    }\n",
       "</style>\n",
       "<table border=\"1\" class=\"dataframe\">\n",
       "  <thead>\n",
       "    <tr style=\"text-align: right;\">\n",
       "      <th></th>\n",
       "      <th>Access to electricity (% of population))</th>\n",
       "      <th>Population (total)</th>\n",
       "    </tr>\n",
       "  </thead>\n",
       "  <tbody>\n",
       "    <tr>\n",
       "      <th>count</th>\n",
       "      <td>3497.000000</td>\n",
       "      <td>4.413000e+03</td>\n",
       "    </tr>\n",
       "    <tr>\n",
       "      <th>mean</th>\n",
       "      <td>79.304171</td>\n",
       "      <td>2.856221e+07</td>\n",
       "    </tr>\n",
       "    <tr>\n",
       "      <th>std</th>\n",
       "      <td>31.489565</td>\n",
       "      <td>1.227270e+08</td>\n",
       "    </tr>\n",
       "    <tr>\n",
       "      <th>min</th>\n",
       "      <td>0.533899</td>\n",
       "      <td>8.910000e+03</td>\n",
       "    </tr>\n",
       "    <tr>\n",
       "      <th>25%</th>\n",
       "      <td>69.559090</td>\n",
       "      <td>6.150130e+05</td>\n",
       "    </tr>\n",
       "    <tr>\n",
       "      <th>50%</th>\n",
       "      <td>99.269470</td>\n",
       "      <td>4.910642e+06</td>\n",
       "    </tr>\n",
       "    <tr>\n",
       "      <th>75%</th>\n",
       "      <td>100.000000</td>\n",
       "      <td>1.518417e+07</td>\n",
       "    </tr>\n",
       "    <tr>\n",
       "      <th>max</th>\n",
       "      <td>100.000000</td>\n",
       "      <td>1.337705e+09</td>\n",
       "    </tr>\n",
       "  </tbody>\n",
       "</table>\n",
       "</div>"
      ],
      "text/plain": [
       "       Access to electricity (% of population))  Population (total)\n",
       "count                               3497.000000        4.413000e+03\n",
       "mean                                  79.304171        2.856221e+07\n",
       "std                                   31.489565        1.227270e+08\n",
       "min                                    0.533899        8.910000e+03\n",
       "25%                                   69.559090        6.150130e+05\n",
       "50%                                   99.269470        4.910642e+06\n",
       "75%                                  100.000000        1.518417e+07\n",
       "max                                  100.000000        1.337705e+09"
      ]
     },
     "execution_count": 24,
     "metadata": {},
     "output_type": "execute_result"
    }
   ],
   "source": [
    "# Produce a summary statistics of the numerical variables in the dataframe\n",
    "\n",
    "df_final.describe()"
   ]
  },
  {
   "cell_type": "code",
   "execution_count": 25,
   "metadata": {
    "colab": {
     "base_uri": "https://localhost:8080/"
    },
    "executionInfo": {
     "elapsed": 475,
     "status": "ok",
     "timestamp": 1650992535278,
     "user": {
      "displayName": "Muhammad Abiodun Sulaiman",
      "userId": "02471899085126984945"
     },
     "user_tz": -60
    },
    "id": "dagCzt5euu_W",
    "outputId": "2b91f2dc-8042-4b56-cadb-a4cda1d5c8e6",
    "scrolled": true
   },
   "outputs": [
    {
     "data": {
      "text/plain": [
       "Country Name                                  0\n",
       "Country Code                                  0\n",
       "Year                                          0\n",
       "Access to electricity (% of population))    919\n",
       "Population (total)                            3\n",
       "dtype: int64"
      ]
     },
     "execution_count": 25,
     "metadata": {},
     "output_type": "execute_result"
    }
   ],
   "source": [
    "# Check for missing observations\n",
    "\n",
    "df_final.isnull().sum()"
   ]
  },
  {
   "cell_type": "code",
   "execution_count": 26,
   "metadata": {
    "colab": {
     "base_uri": "https://localhost:8080/"
    },
    "executionInfo": {
     "elapsed": 615,
     "status": "ok",
     "timestamp": 1650992546139,
     "user": {
      "displayName": "Muhammad Abiodun Sulaiman",
      "userId": "02471899085126984945"
     },
     "user_tz": -60
    },
    "id": "Ya0jhVj6uu_X",
    "outputId": "31438102-2cab-4189-cf7b-b55cd4f045a0"
   },
   "outputs": [
    {
     "data": {
      "text/plain": [
       "Country Name                                 0.000000\n",
       "Country Code                                 0.000000\n",
       "Year                                         0.000000\n",
       "Access to electricity (% of population))    20.810688\n",
       "Population (total)                           0.067935\n",
       "dtype: float64"
      ]
     },
     "execution_count": 26,
     "metadata": {},
     "output_type": "execute_result"
    }
   ],
   "source": [
    "# Check for the percentage of missing observations in each column\n",
    "\n",
    "percent_missing = df_final.isnull().sum() * 100 / len(df_final)\n",
    "percent_missing"
   ]
  },
  {
   "cell_type": "code",
   "execution_count": 27,
   "metadata": {
    "colab": {
     "base_uri": "https://localhost:8080/",
     "height": 206
    },
    "executionInfo": {
     "elapsed": 505,
     "status": "ok",
     "timestamp": 1650992549284,
     "user": {
      "displayName": "Muhammad Abiodun Sulaiman",
      "userId": "02471899085126984945"
     },
     "user_tz": -60
    },
    "id": "NVJrlvNeVU0P",
    "outputId": "dbbc2375-5fa4-4038-d8fc-bea416352faa"
   },
   "outputs": [
    {
     "data": {
      "text/html": [
       "<div>\n",
       "<style scoped>\n",
       "    .dataframe tbody tr th:only-of-type {\n",
       "        vertical-align: middle;\n",
       "    }\n",
       "\n",
       "    .dataframe tbody tr th {\n",
       "        vertical-align: top;\n",
       "    }\n",
       "\n",
       "    .dataframe thead th {\n",
       "        text-align: right;\n",
       "    }\n",
       "</style>\n",
       "<table border=\"1\" class=\"dataframe\">\n",
       "  <thead>\n",
       "    <tr style=\"text-align: right;\">\n",
       "      <th></th>\n",
       "      <th>Country Name</th>\n",
       "      <th>Country Code</th>\n",
       "      <th>Year</th>\n",
       "      <th>Access to electricity (% of population))</th>\n",
       "      <th>Population (total)</th>\n",
       "    </tr>\n",
       "  </thead>\n",
       "  <tbody>\n",
       "    <tr>\n",
       "      <th>0</th>\n",
       "      <td>Aruba</td>\n",
       "      <td>ABW</td>\n",
       "      <td>1990</td>\n",
       "      <td>100.000000</td>\n",
       "      <td>62152.0</td>\n",
       "    </tr>\n",
       "    <tr>\n",
       "      <th>1</th>\n",
       "      <td>Aruba</td>\n",
       "      <td>ABW</td>\n",
       "      <td>1991</td>\n",
       "      <td>99.153656</td>\n",
       "      <td>64623.0</td>\n",
       "    </tr>\n",
       "    <tr>\n",
       "      <th>2</th>\n",
       "      <td>Aruba</td>\n",
       "      <td>ABW</td>\n",
       "      <td>1992</td>\n",
       "      <td>99.197128</td>\n",
       "      <td>68240.0</td>\n",
       "    </tr>\n",
       "    <tr>\n",
       "      <th>3</th>\n",
       "      <td>Aruba</td>\n",
       "      <td>ABW</td>\n",
       "      <td>1993</td>\n",
       "      <td>99.239914</td>\n",
       "      <td>72495.0</td>\n",
       "    </tr>\n",
       "    <tr>\n",
       "      <th>4</th>\n",
       "      <td>Aruba</td>\n",
       "      <td>ABW</td>\n",
       "      <td>1994</td>\n",
       "      <td>100.000000</td>\n",
       "      <td>76705.0</td>\n",
       "    </tr>\n",
       "  </tbody>\n",
       "</table>\n",
       "</div>"
      ],
      "text/plain": [
       "  Country Name Country Code  Year  Access to electricity (% of population))  \\\n",
       "0        Aruba          ABW  1990                                100.000000   \n",
       "1        Aruba          ABW  1991                                 99.153656   \n",
       "2        Aruba          ABW  1992                                 99.197128   \n",
       "3        Aruba          ABW  1993                                 99.239914   \n",
       "4        Aruba          ABW  1994                                100.000000   \n",
       "\n",
       "   Population (total)  \n",
       "0             62152.0  \n",
       "1             64623.0  \n",
       "2             68240.0  \n",
       "3             72495.0  \n",
       "4             76705.0  "
      ]
     },
     "execution_count": 27,
     "metadata": {},
     "output_type": "execute_result"
    }
   ],
   "source": [
    "# Dropping missing observations from the dataframe and creating a new dataframe to hold the the updated data\n",
    "\n",
    "df_final_1 = df_final.dropna(inplace=False)\n",
    "df_final_1.head()"
   ]
  },
  {
   "cell_type": "code",
   "execution_count": 28,
   "metadata": {
    "colab": {
     "base_uri": "https://localhost:8080/"
    },
    "executionInfo": {
     "elapsed": 462,
     "status": "ok",
     "timestamp": 1650992553032,
     "user": {
      "displayName": "Muhammad Abiodun Sulaiman",
      "userId": "02471899085126984945"
     },
     "user_tz": -60
    },
    "id": "kK_QSNi_VU0Q",
    "outputId": "2afd26e4-6011-4f21-f467-abfd1284efbf"
   },
   "outputs": [
    {
     "data": {
      "text/plain": [
       "(3494, 5)"
      ]
     },
     "execution_count": 28,
     "metadata": {},
     "output_type": "execute_result"
    }
   ],
   "source": [
    "# Check the number of rows and columns in the newly created dataframe\n",
    "\n",
    "df_final_1.shape"
   ]
  },
  {
   "cell_type": "code",
   "execution_count": 29,
   "metadata": {
    "colab": {
     "base_uri": "https://localhost:8080/"
    },
    "executionInfo": {
     "elapsed": 30,
     "status": "ok",
     "timestamp": 1650992555104,
     "user": {
      "displayName": "Muhammad Abiodun Sulaiman",
      "userId": "02471899085126984945"
     },
     "user_tz": -60
    },
    "id": "f2MTT-5rVU0S",
    "outputId": "03e48f3f-e1fe-49a8-af9a-e43267487392"
   },
   "outputs": [
    {
     "data": {
      "text/plain": [
       "Country Name                                 182\n",
       "Country Code                                 182\n",
       "Year                                          21\n",
       "Access to electricity (% of population))    1586\n",
       "Population (total)                          3073\n",
       "dtype: int64"
      ]
     },
     "execution_count": 29,
     "metadata": {},
     "output_type": "execute_result"
    }
   ],
   "source": [
    "# Check for unique entities\n",
    "\n",
    "df_final_1.nunique()"
   ]
  },
  {
   "cell_type": "code",
   "execution_count": 30,
   "metadata": {
    "colab": {
     "base_uri": "https://localhost:8080/",
     "height": 300
    },
    "executionInfo": {
     "elapsed": 49,
     "status": "ok",
     "timestamp": 1650986917945,
     "user": {
      "displayName": "Muhammad Abiodun Sulaiman",
      "userId": "02471899085126984945"
     },
     "user_tz": -60
    },
    "id": "PRbIYu0aVU0T",
    "outputId": "0aed190c-887a-4ad6-f4dc-b1e3a02d0154"
   },
   "outputs": [
    {
     "data": {
      "text/html": [
       "<div>\n",
       "<style scoped>\n",
       "    .dataframe tbody tr th:only-of-type {\n",
       "        vertical-align: middle;\n",
       "    }\n",
       "\n",
       "    .dataframe tbody tr th {\n",
       "        vertical-align: top;\n",
       "    }\n",
       "\n",
       "    .dataframe thead th {\n",
       "        text-align: right;\n",
       "    }\n",
       "</style>\n",
       "<table border=\"1\" class=\"dataframe\">\n",
       "  <thead>\n",
       "    <tr style=\"text-align: right;\">\n",
       "      <th></th>\n",
       "      <th>Access to electricity (% of population))</th>\n",
       "      <th>Population (total)</th>\n",
       "    </tr>\n",
       "  </thead>\n",
       "  <tbody>\n",
       "    <tr>\n",
       "      <th>count</th>\n",
       "      <td>3494.000000</td>\n",
       "      <td>3.494000e+03</td>\n",
       "    </tr>\n",
       "    <tr>\n",
       "      <th>mean</th>\n",
       "      <td>79.286402</td>\n",
       "      <td>2.769395e+07</td>\n",
       "    </tr>\n",
       "    <tr>\n",
       "      <th>std</th>\n",
       "      <td>31.497240</td>\n",
       "      <td>1.141693e+08</td>\n",
       "    </tr>\n",
       "    <tr>\n",
       "      <th>min</th>\n",
       "      <td>0.533899</td>\n",
       "      <td>9.506000e+03</td>\n",
       "    </tr>\n",
       "    <tr>\n",
       "      <th>25%</th>\n",
       "      <td>69.502287</td>\n",
       "      <td>5.797990e+05</td>\n",
       "    </tr>\n",
       "    <tr>\n",
       "      <th>50%</th>\n",
       "      <td>99.258990</td>\n",
       "      <td>5.064509e+06</td>\n",
       "    </tr>\n",
       "    <tr>\n",
       "      <th>75%</th>\n",
       "      <td>100.000000</td>\n",
       "      <td>1.507164e+07</td>\n",
       "    </tr>\n",
       "    <tr>\n",
       "      <th>max</th>\n",
       "      <td>100.000000</td>\n",
       "      <td>1.337705e+09</td>\n",
       "    </tr>\n",
       "  </tbody>\n",
       "</table>\n",
       "</div>"
      ],
      "text/plain": [
       "       Access to electricity (% of population))  Population (total)\n",
       "count                               3494.000000        3.494000e+03\n",
       "mean                                  79.286402        2.769395e+07\n",
       "std                                   31.497240        1.141693e+08\n",
       "min                                    0.533899        9.506000e+03\n",
       "25%                                   69.502287        5.797990e+05\n",
       "50%                                   99.258990        5.064509e+06\n",
       "75%                                  100.000000        1.507164e+07\n",
       "max                                  100.000000        1.337705e+09"
      ]
     },
     "execution_count": 30,
     "metadata": {},
     "output_type": "execute_result"
    }
   ],
   "source": [
    "# Summary Statistics\n",
    "\n",
    "df_final_1.describe()"
   ]
  },
  {
   "cell_type": "markdown",
   "metadata": {
    "id": "YWTti6Q_VU0W"
   },
   "source": [
    "Upon the tractions, we are left with 2592 observations (rows)"
   ]
  },
  {
   "cell_type": "markdown",
   "metadata": {
    "id": "AAZgBn6l2SuN"
   },
   "source": [
    "## Data Grouping\n",
    "\n",
    "Next, we shall group the dataframe by two metrics; **year**, **country name**. This will afford us the opportunity to draw some insights from the created dataframe."
   ]
  },
  {
   "cell_type": "code",
   "execution_count": 31,
   "metadata": {
    "colab": {
     "base_uri": "https://localhost:8080/",
     "height": 206
    },
    "executionInfo": {
     "elapsed": 519,
     "status": "ok",
     "timestamp": 1650987016938,
     "user": {
      "displayName": "Muhammad Abiodun Sulaiman",
      "userId": "02471899085126984945"
     },
     "user_tz": -60
    },
    "id": "INDyz-qy2SuO",
    "outputId": "d21d87a9-a2b8-45d8-cc03-eca629f83452"
   },
   "outputs": [
    {
     "data": {
      "text/html": [
       "<div>\n",
       "<style scoped>\n",
       "    .dataframe tbody tr th:only-of-type {\n",
       "        vertical-align: middle;\n",
       "    }\n",
       "\n",
       "    .dataframe tbody tr th {\n",
       "        vertical-align: top;\n",
       "    }\n",
       "\n",
       "    .dataframe thead th {\n",
       "        text-align: right;\n",
       "    }\n",
       "</style>\n",
       "<table border=\"1\" class=\"dataframe\">\n",
       "  <thead>\n",
       "    <tr style=\"text-align: right;\">\n",
       "      <th></th>\n",
       "      <th>Year</th>\n",
       "      <th>Access to electricity (% of population))</th>\n",
       "      <th>Population (total)</th>\n",
       "    </tr>\n",
       "  </thead>\n",
       "  <tbody>\n",
       "    <tr>\n",
       "      <th>0</th>\n",
       "      <td>1990</td>\n",
       "      <td>95.801673</td>\n",
       "      <td>1.460834e+07</td>\n",
       "    </tr>\n",
       "    <tr>\n",
       "      <th>1</th>\n",
       "      <td>1991</td>\n",
       "      <td>90.644320</td>\n",
       "      <td>1.681708e+07</td>\n",
       "    </tr>\n",
       "    <tr>\n",
       "      <th>2</th>\n",
       "      <td>1992</td>\n",
       "      <td>86.677032</td>\n",
       "      <td>1.732945e+07</td>\n",
       "    </tr>\n",
       "    <tr>\n",
       "      <th>3</th>\n",
       "      <td>1993</td>\n",
       "      <td>84.219742</td>\n",
       "      <td>2.614312e+07</td>\n",
       "    </tr>\n",
       "    <tr>\n",
       "      <th>4</th>\n",
       "      <td>1994</td>\n",
       "      <td>83.123632</td>\n",
       "      <td>2.561210e+07</td>\n",
       "    </tr>\n",
       "  </tbody>\n",
       "</table>\n",
       "</div>"
      ],
      "text/plain": [
       "   Year  Access to electricity (% of population))  Population (total)\n",
       "0  1990                                 95.801673        1.460834e+07\n",
       "1  1991                                 90.644320        1.681708e+07\n",
       "2  1992                                 86.677032        1.732945e+07\n",
       "3  1993                                 84.219742        2.614312e+07\n",
       "4  1994                                 83.123632        2.561210e+07"
      ]
     },
     "execution_count": 31,
     "metadata": {},
     "output_type": "execute_result"
    }
   ],
   "source": [
    "# Grouping by year\n",
    "\n",
    "df_final_extracted_year = df_final_1[['Country Name', 'Country Code', 'Year', 'Access to electricity (% of population))', 'Population (total)']].groupby('Year', as_index=False).mean()\n",
    "df_final_extracted_year.head()"
   ]
  },
  {
   "cell_type": "code",
   "execution_count": 32,
   "metadata": {
    "colab": {
     "base_uri": "https://localhost:8080/",
     "height": 300
    },
    "executionInfo": {
     "elapsed": 539,
     "status": "ok",
     "timestamp": 1650987026862,
     "user": {
      "displayName": "Muhammad Abiodun Sulaiman",
      "userId": "02471899085126984945"
     },
     "user_tz": -60
    },
    "id": "dCi5Tm8hYTkw",
    "outputId": "0ccbd470-401e-45e8-8a3d-d534cb67e5f2"
   },
   "outputs": [
    {
     "data": {
      "text/html": [
       "<div>\n",
       "<style scoped>\n",
       "    .dataframe tbody tr th:only-of-type {\n",
       "        vertical-align: middle;\n",
       "    }\n",
       "\n",
       "    .dataframe tbody tr th {\n",
       "        vertical-align: top;\n",
       "    }\n",
       "\n",
       "    .dataframe thead th {\n",
       "        text-align: right;\n",
       "    }\n",
       "</style>\n",
       "<table border=\"1\" class=\"dataframe\">\n",
       "  <thead>\n",
       "    <tr style=\"text-align: right;\">\n",
       "      <th></th>\n",
       "      <th>Access to electricity (% of population))</th>\n",
       "      <th>Population (total)</th>\n",
       "    </tr>\n",
       "  </thead>\n",
       "  <tbody>\n",
       "    <tr>\n",
       "      <th>count</th>\n",
       "      <td>21.000000</td>\n",
       "      <td>2.100000e+01</td>\n",
       "    </tr>\n",
       "    <tr>\n",
       "      <th>mean</th>\n",
       "      <td>80.458711</td>\n",
       "      <td>2.701828e+07</td>\n",
       "    </tr>\n",
       "    <tr>\n",
       "      <th>std</th>\n",
       "      <td>5.100586</td>\n",
       "      <td>5.483479e+06</td>\n",
       "    </tr>\n",
       "    <tr>\n",
       "      <th>min</th>\n",
       "      <td>76.268540</td>\n",
       "      <td>1.460834e+07</td>\n",
       "    </tr>\n",
       "    <tr>\n",
       "      <th>25%</th>\n",
       "      <td>77.278993</td>\n",
       "      <td>2.422283e+07</td>\n",
       "    </tr>\n",
       "    <tr>\n",
       "      <th>50%</th>\n",
       "      <td>78.277611</td>\n",
       "      <td>3.053149e+07</td>\n",
       "    </tr>\n",
       "    <tr>\n",
       "      <th>75%</th>\n",
       "      <td>81.993133</td>\n",
       "      <td>3.114268e+07</td>\n",
       "    </tr>\n",
       "    <tr>\n",
       "      <th>max</th>\n",
       "      <td>95.801673</td>\n",
       "      <td>3.277562e+07</td>\n",
       "    </tr>\n",
       "  </tbody>\n",
       "</table>\n",
       "</div>"
      ],
      "text/plain": [
       "       Access to electricity (% of population))  Population (total)\n",
       "count                                 21.000000        2.100000e+01\n",
       "mean                                  80.458711        2.701828e+07\n",
       "std                                    5.100586        5.483479e+06\n",
       "min                                   76.268540        1.460834e+07\n",
       "25%                                   77.278993        2.422283e+07\n",
       "50%                                   78.277611        3.053149e+07\n",
       "75%                                   81.993133        3.114268e+07\n",
       "max                                   95.801673        3.277562e+07"
      ]
     },
     "execution_count": 32,
     "metadata": {},
     "output_type": "execute_result"
    }
   ],
   "source": [
    "# Summary Statistics\n",
    "\n",
    "df_final_extracted_year.describe()"
   ]
  },
  {
   "cell_type": "code",
   "execution_count": 67,
   "metadata": {
    "colab": {
     "base_uri": "https://localhost:8080/",
     "height": 564
    },
    "executionInfo": {
     "elapsed": 1002,
     "status": "ok",
     "timestamp": 1650987208977,
     "user": {
      "displayName": "Muhammad Abiodun Sulaiman",
      "userId": "02471899085126984945"
     },
     "user_tz": -60
    },
    "id": "02KKUOpiVU0Y",
    "outputId": "43fef842-36b5-4c57-f904-e09e463f1780"
   },
   "outputs": [
    {
     "data": {
      "image/png": "[encoded data removed]",
      "text/plain": [
       "<Figure size 600x600 with 1 Axes>"
      ]
     },
     "metadata": {},
     "output_type": "display_data"
    }
   ],
   "source": [
    "# Line chart of Access to electricity by year for arable land\n",
    "\n",
    "df_final_extracted_year.plot(x='Year', y=['Access to electricity (% of population))'], kind='line', figsize=(6,6), title='Accessibility to Electricity by Year')\n",
    "\n",
    "plt.legend()\n",
    "plt.show()"
   ]
  },
  {
   "cell_type": "code",
   "execution_count": 35,
   "metadata": {
    "colab": {
     "base_uri": "https://localhost:8080/",
     "height": 564
    },
    "executionInfo": {
     "elapsed": 47,
     "status": "ok",
     "timestamp": 1650987194027,
     "user": {
      "displayName": "Muhammad Abiodun Sulaiman",
      "userId": "02471899085126984945"
     },
     "user_tz": -60
    },
    "id": "e01nomwSVU0a",
    "outputId": "af343b62-68c6-48fa-f386-aabcad120b34"
   },
   "outputs": [
    {
     "data": {
      "image/png": "[encoded data removed]",
      "text/plain": [
       "<Figure size 600x600 with 1 Axes>"
      ]
     },
     "metadata": {},
     "output_type": "display_data"
    }
   ],
   "source": [
    "# Line chart of population by year forest area\n",
    "\n",
    "df_final_extracted_year.plot(x='Year', y=['Population (total)'], kind='line', figsize=(6,6), title='Total Population by Year', color='r')\n",
    "\n",
    "plt.legend()\n",
    "plt.show()"
   ]
  },
  {
   "cell_type": "code",
   "execution_count": 36,
   "metadata": {
    "colab": {
     "base_uri": "https://localhost:8080/",
     "height": 206
    },
    "executionInfo": {
     "elapsed": 624,
     "status": "ok",
     "timestamp": 1650987234855,
     "user": {
      "displayName": "Muhammad Abiodun Sulaiman",
      "userId": "02471899085126984945"
     },
     "user_tz": -60
    },
    "id": "0G0PepqIVU0a",
    "outputId": "8b3c41f8-840f-49b4-b86a-087139eb14e4"
   },
   "outputs": [
    {
     "data": {
      "text/html": [
       "<div>\n",
       "<style scoped>\n",
       "    .dataframe tbody tr th:only-of-type {\n",
       "        vertical-align: middle;\n",
       "    }\n",
       "\n",
       "    .dataframe tbody tr th {\n",
       "        vertical-align: top;\n",
       "    }\n",
       "\n",
       "    .dataframe thead th {\n",
       "        text-align: right;\n",
       "    }\n",
       "</style>\n",
       "<table border=\"1\" class=\"dataframe\">\n",
       "  <thead>\n",
       "    <tr style=\"text-align: right;\">\n",
       "      <th></th>\n",
       "      <th>Year</th>\n",
       "      <th>Access to electricity (% of population))</th>\n",
       "      <th>Population (total)</th>\n",
       "    </tr>\n",
       "  </thead>\n",
       "  <tbody>\n",
       "    <tr>\n",
       "      <th>0</th>\n",
       "      <td>1990</td>\n",
       "      <td>95.801673</td>\n",
       "      <td>1.460834e+07</td>\n",
       "    </tr>\n",
       "    <tr>\n",
       "      <th>1</th>\n",
       "      <td>1991</td>\n",
       "      <td>90.644320</td>\n",
       "      <td>1.681708e+07</td>\n",
       "    </tr>\n",
       "    <tr>\n",
       "      <th>2</th>\n",
       "      <td>1992</td>\n",
       "      <td>86.677032</td>\n",
       "      <td>1.732945e+07</td>\n",
       "    </tr>\n",
       "    <tr>\n",
       "      <th>3</th>\n",
       "      <td>1993</td>\n",
       "      <td>84.219742</td>\n",
       "      <td>2.614312e+07</td>\n",
       "    </tr>\n",
       "    <tr>\n",
       "      <th>4</th>\n",
       "      <td>1994</td>\n",
       "      <td>83.123632</td>\n",
       "      <td>2.561210e+07</td>\n",
       "    </tr>\n",
       "  </tbody>\n",
       "</table>\n",
       "</div>"
      ],
      "text/plain": [
       "   Year  Access to electricity (% of population))  Population (total)\n",
       "0  1990                                 95.801673        1.460834e+07\n",
       "1  1991                                 90.644320        1.681708e+07\n",
       "2  1992                                 86.677032        1.732945e+07\n",
       "3  1993                                 84.219742        2.614312e+07\n",
       "4  1994                                 83.123632        2.561210e+07"
      ]
     },
     "execution_count": 36,
     "metadata": {},
     "output_type": "execute_result"
    }
   ],
   "source": [
    "# View top 5 countries by Arable land\n",
    "\n",
    "df_final_extracted_year.nlargest(5, 'Access to electricity (% of population))')"
   ]
  },
  {
   "cell_type": "code",
   "execution_count": 37,
   "metadata": {
    "colab": {
     "base_uri": "https://localhost:8080/",
     "height": 206
    },
    "executionInfo": {
     "elapsed": 528,
     "status": "ok",
     "timestamp": 1650987263945,
     "user": {
      "displayName": "Muhammad Abiodun Sulaiman",
      "userId": "02471899085126984945"
     },
     "user_tz": -60
    },
    "id": "qN19jVgZVU0b",
    "outputId": "2570968d-5197-4d27-cc65-36eec0fcaf50"
   },
   "outputs": [
    {
     "data": {
      "text/html": [
       "<div>\n",
       "<style scoped>\n",
       "    .dataframe tbody tr th:only-of-type {\n",
       "        vertical-align: middle;\n",
       "    }\n",
       "\n",
       "    .dataframe tbody tr th {\n",
       "        vertical-align: top;\n",
       "    }\n",
       "\n",
       "    .dataframe thead th {\n",
       "        text-align: right;\n",
       "    }\n",
       "</style>\n",
       "<table border=\"1\" class=\"dataframe\">\n",
       "  <thead>\n",
       "    <tr style=\"text-align: right;\">\n",
       "      <th></th>\n",
       "      <th>Year</th>\n",
       "      <th>Access to electricity (% of population))</th>\n",
       "      <th>Population (total)</th>\n",
       "    </tr>\n",
       "  </thead>\n",
       "  <tbody>\n",
       "    <tr>\n",
       "      <th>20</th>\n",
       "      <td>2010</td>\n",
       "      <td>79.377156</td>\n",
       "      <td>3.277562e+07</td>\n",
       "    </tr>\n",
       "    <tr>\n",
       "      <th>19</th>\n",
       "      <td>2009</td>\n",
       "      <td>78.716942</td>\n",
       "      <td>3.217703e+07</td>\n",
       "    </tr>\n",
       "    <tr>\n",
       "      <th>18</th>\n",
       "      <td>2008</td>\n",
       "      <td>78.734953</td>\n",
       "      <td>3.194783e+07</td>\n",
       "    </tr>\n",
       "    <tr>\n",
       "      <th>16</th>\n",
       "      <td>2006</td>\n",
       "      <td>77.986447</td>\n",
       "      <td>3.132856e+07</td>\n",
       "    </tr>\n",
       "    <tr>\n",
       "      <th>17</th>\n",
       "      <td>2007</td>\n",
       "      <td>78.274987</td>\n",
       "      <td>3.127165e+07</td>\n",
       "    </tr>\n",
       "  </tbody>\n",
       "</table>\n",
       "</div>"
      ],
      "text/plain": [
       "    Year  Access to electricity (% of population))  Population (total)\n",
       "20  2010                                 79.377156        3.277562e+07\n",
       "19  2009                                 78.716942        3.217703e+07\n",
       "18  2008                                 78.734953        3.194783e+07\n",
       "16  2006                                 77.986447        3.132856e+07\n",
       "17  2007                                 78.274987        3.127165e+07"
      ]
     },
     "execution_count": 37,
     "metadata": {},
     "output_type": "execute_result"
    }
   ],
   "source": [
    "# View top 5 countries by Forest area\n",
    "\n",
    "df_final_extracted_year.nlargest(5, 'Population (total)')"
   ]
  },
  {
   "cell_type": "code",
   "execution_count": 38,
   "metadata": {
    "colab": {
     "base_uri": "https://localhost:8080/",
     "height": 112
    },
    "executionInfo": {
     "elapsed": 589,
     "status": "ok",
     "timestamp": 1650987287986,
     "user": {
      "displayName": "Muhammad Abiodun Sulaiman",
      "userId": "02471899085126984945"
     },
     "user_tz": -60
    },
    "id": "htHkSFg-VU0f",
    "outputId": "ea233211-1b3b-463d-cb1c-ae1797002d10"
   },
   "outputs": [
    {
     "data": {
      "text/html": [
       "<div>\n",
       "<style scoped>\n",
       "    .dataframe tbody tr th:only-of-type {\n",
       "        vertical-align: middle;\n",
       "    }\n",
       "\n",
       "    .dataframe tbody tr th {\n",
       "        vertical-align: top;\n",
       "    }\n",
       "\n",
       "    .dataframe thead th {\n",
       "        text-align: right;\n",
       "    }\n",
       "</style>\n",
       "<table border=\"1\" class=\"dataframe\">\n",
       "  <thead>\n",
       "    <tr style=\"text-align: right;\">\n",
       "      <th></th>\n",
       "      <th>Access to electricity (% of population))</th>\n",
       "      <th>Population (total)</th>\n",
       "    </tr>\n",
       "  </thead>\n",
       "  <tbody>\n",
       "    <tr>\n",
       "      <th>Access to electricity (% of population))</th>\n",
       "      <td>1.000000</td>\n",
       "      <td>-0.830596</td>\n",
       "    </tr>\n",
       "    <tr>\n",
       "      <th>Population (total)</th>\n",
       "      <td>-0.830596</td>\n",
       "      <td>1.000000</td>\n",
       "    </tr>\n",
       "  </tbody>\n",
       "</table>\n",
       "</div>"
      ],
      "text/plain": [
       "                                          Access to electricity (% of population))  \\\n",
       "Access to electricity (% of population))                                  1.000000   \n",
       "Population (total)                                                       -0.830596   \n",
       "\n",
       "                                          Population (total)  \n",
       "Access to electricity (% of population))           -0.830596  \n",
       "Population (total)                                  1.000000  "
      ]
     },
     "execution_count": 38,
     "metadata": {},
     "output_type": "execute_result"
    }
   ],
   "source": [
    "# Check the correlation between the variables (numerical) available in the dataframe\n",
    "\n",
    "df_final_extracted_year.corr()"
   ]
  },
  {
   "cell_type": "markdown",
   "metadata": {
    "id": "VNVSTXR1gvWt"
   },
   "source": [
    "The above shows that when the data is grouped by year, there will be a 83.05% reduction in the percentage of population that had access to electricity as total population (100,000) increases."
   ]
  },
  {
   "cell_type": "code",
   "execution_count": 63,
   "metadata": {
    "colab": {
     "base_uri": "https://localhost:8080/",
     "height": 894
    },
    "executionInfo": {
     "elapsed": 767,
     "status": "ok",
     "timestamp": 1650987609248,
     "user": {
      "displayName": "Muhammad Abiodun Sulaiman",
      "userId": "02471899085126984945"
     },
     "user_tz": -60
    },
    "id": "5saOgwvi2SuP",
    "outputId": "65678f8a-9394-4f90-dc7b-1d3a395f20eb"
   },
   "outputs": [
    {
     "data": {
      "image/png": "[encoded data removed]",
      "text/plain": [
       "<Figure size 1500x1000 with 1 Axes>"
      ]
     },
     "metadata": {},
     "output_type": "display_data"
    }
   ],
   "source": [
    "# Create a bar chart for comparing arable Land and forest area\n",
    "\n",
    "df_final_extracted_year.plot(x='Year', y=['Access to electricity (% of population))'], kind='bar', figsize=(15,10), title='Access to Electricity in Arable land and Forest area by Year', color = 'y')\n",
    "\n",
    "plt.legend()\n",
    "plt.show()"
   ]
  },
  {
   "cell_type": "code",
   "execution_count": 69,
   "metadata": {
    "colab": {
     "base_uri": "https://localhost:8080/",
     "height": 894
    },
    "executionInfo": {
     "elapsed": 994,
     "status": "ok",
     "timestamp": 1650987648860,
     "user": {
      "displayName": "Muhammad Abiodun Sulaiman",
      "userId": "02471899085126984945"
     },
     "user_tz": -60
    },
    "id": "Gq1va_M7h7jl",
    "outputId": "976517be-4c7d-47ac-c36d-8ab448d60c36"
   },
   "outputs": [
    {
     "data": {
      "image/png": "[encoded data removed]",
      "text/plain": [
       "<Figure size 1500x1000 with 1 Axes>"
      ]
     },
     "metadata": {},
     "output_type": "display_data"
    }
   ],
   "source": [
    "# Create a bar chart for comparing arable Land and forest area\n",
    "# we used bar chart to know the number of occurence of the population by year\n",
    "df_final_extracted_year.plot(x='Year', y=['Population (total)'], kind='bar',figsize=(15,10), title='Bar Chart of Total Population by Year', color='black')\n",
    "\n",
    "plt.legend()\n",
    "plt.show()"
   ]
  },
  {
   "cell_type": "code",
   "execution_count": 41,
   "metadata": {
    "colab": {
     "base_uri": "https://localhost:8080/",
     "height": 206
    },
    "executionInfo": {
     "elapsed": 576,
     "status": "ok",
     "timestamp": 1650987700917,
     "user": {
      "displayName": "Muhammad Abiodun Sulaiman",
      "userId": "02471899085126984945"
     },
     "user_tz": -60
    },
    "id": "TWiAINLm2SuQ",
    "outputId": "62c20de3-9496-4990-932d-b18c330c2352"
   },
   "outputs": [
    {
     "data": {
      "text/html": [
       "<div>\n",
       "<style scoped>\n",
       "    .dataframe tbody tr th:only-of-type {\n",
       "        vertical-align: middle;\n",
       "    }\n",
       "\n",
       "    .dataframe tbody tr th {\n",
       "        vertical-align: top;\n",
       "    }\n",
       "\n",
       "    .dataframe thead th {\n",
       "        text-align: right;\n",
       "    }\n",
       "</style>\n",
       "<table border=\"1\" class=\"dataframe\">\n",
       "  <thead>\n",
       "    <tr style=\"text-align: right;\">\n",
       "      <th></th>\n",
       "      <th>Country Name</th>\n",
       "      <th>Access to electricity (% of population))</th>\n",
       "      <th>Population (total)</th>\n",
       "    </tr>\n",
       "  </thead>\n",
       "  <tbody>\n",
       "    <tr>\n",
       "      <th>0</th>\n",
       "      <td>Afghanistan</td>\n",
       "      <td>35.819586</td>\n",
       "      <td>2.741508e+07</td>\n",
       "    </tr>\n",
       "    <tr>\n",
       "      <th>1</th>\n",
       "      <td>Albania</td>\n",
       "      <td>100.000000</td>\n",
       "      <td>3.099619e+06</td>\n",
       "    </tr>\n",
       "    <tr>\n",
       "      <th>2</th>\n",
       "      <td>Algeria</td>\n",
       "      <td>98.979804</td>\n",
       "      <td>3.534731e+07</td>\n",
       "    </tr>\n",
       "    <tr>\n",
       "      <th>3</th>\n",
       "      <td>Andorra</td>\n",
       "      <td>100.000000</td>\n",
       "      <td>6.894625e+04</td>\n",
       "    </tr>\n",
       "    <tr>\n",
       "      <th>4</th>\n",
       "      <td>Angola</td>\n",
       "      <td>30.730295</td>\n",
       "      <td>1.993998e+07</td>\n",
       "    </tr>\n",
       "  </tbody>\n",
       "</table>\n",
       "</div>"
      ],
      "text/plain": [
       "  Country Name  Access to electricity (% of population))  Population (total)\n",
       "0  Afghanistan                                 35.819586        2.741508e+07\n",
       "1      Albania                                100.000000        3.099619e+06\n",
       "2      Algeria                                 98.979804        3.534731e+07\n",
       "3      Andorra                                100.000000        6.894625e+04\n",
       "4       Angola                                 30.730295        1.993998e+07"
      ]
     },
     "execution_count": 41,
     "metadata": {},
     "output_type": "execute_result"
    }
   ],
   "source": [
    "# Grouping by country\n",
    "\n",
    "df_final_extracted_country = df_final_1[['Country Name', 'Country Code', 'Year', \n",
    "                                                 'Access to electricity (% of population))', 'Population (total)', \n",
    "                                                 ]].groupby('Country Name', as_index=False).mean()\n",
    "df_final_extracted_country.head()"
   ]
  },
  {
   "cell_type": "code",
   "execution_count": 42,
   "metadata": {
    "colab": {
     "base_uri": "https://localhost:8080/",
     "height": 300
    },
    "executionInfo": {
     "elapsed": 566,
     "status": "ok",
     "timestamp": 1650987707046,
     "user": {
      "displayName": "Muhammad Abiodun Sulaiman",
      "userId": "02471899085126984945"
     },
     "user_tz": -60
    },
    "id": "qv1CunxVZKHz",
    "outputId": "c19f3a59-fd21-479b-be22-68232f047f3c"
   },
   "outputs": [
    {
     "data": {
      "text/html": [
       "<div>\n",
       "<style scoped>\n",
       "    .dataframe tbody tr th:only-of-type {\n",
       "        vertical-align: middle;\n",
       "    }\n",
       "\n",
       "    .dataframe tbody tr th {\n",
       "        vertical-align: top;\n",
       "    }\n",
       "\n",
       "    .dataframe thead th {\n",
       "        text-align: right;\n",
       "    }\n",
       "</style>\n",
       "<table border=\"1\" class=\"dataframe\">\n",
       "  <thead>\n",
       "    <tr style=\"text-align: right;\">\n",
       "      <th></th>\n",
       "      <th>Access to electricity (% of population))</th>\n",
       "      <th>Population (total)</th>\n",
       "    </tr>\n",
       "  </thead>\n",
       "  <tbody>\n",
       "    <tr>\n",
       "      <th>count</th>\n",
       "      <td>182.000000</td>\n",
       "      <td>1.820000e+02</td>\n",
       "    </tr>\n",
       "    <tr>\n",
       "      <th>mean</th>\n",
       "      <td>75.592086</td>\n",
       "      <td>2.980063e+07</td>\n",
       "    </tr>\n",
       "    <tr>\n",
       "      <th>std</th>\n",
       "      <td>33.171389</td>\n",
       "      <td>1.272608e+08</td>\n",
       "    </tr>\n",
       "    <tr>\n",
       "      <th>min</th>\n",
       "      <td>2.250000</td>\n",
       "      <td>1.008567e+04</td>\n",
       "    </tr>\n",
       "    <tr>\n",
       "      <th>25%</th>\n",
       "      <td>50.176867</td>\n",
       "      <td>7.428341e+05</td>\n",
       "    </tr>\n",
       "    <tr>\n",
       "      <th>50%</th>\n",
       "      <td>96.907236</td>\n",
       "      <td>5.254640e+06</td>\n",
       "    </tr>\n",
       "    <tr>\n",
       "      <th>75%</th>\n",
       "      <td>100.000000</td>\n",
       "      <td>1.582824e+07</td>\n",
       "    </tr>\n",
       "    <tr>\n",
       "      <th>max</th>\n",
       "      <td>100.000000</td>\n",
       "      <td>1.302329e+09</td>\n",
       "    </tr>\n",
       "  </tbody>\n",
       "</table>\n",
       "</div>"
      ],
      "text/plain": [
       "       Access to electricity (% of population))  Population (total)\n",
       "count                                182.000000        1.820000e+02\n",
       "mean                                  75.592086        2.980063e+07\n",
       "std                                   33.171389        1.272608e+08\n",
       "min                                    2.250000        1.008567e+04\n",
       "25%                                   50.176867        7.428341e+05\n",
       "50%                                   96.907236        5.254640e+06\n",
       "75%                                  100.000000        1.582824e+07\n",
       "max                                  100.000000        1.302329e+09"
      ]
     },
     "execution_count": 42,
     "metadata": {},
     "output_type": "execute_result"
    }
   ],
   "source": [
    "# Summary Statistics\n",
    "\n",
    "df_final_extracted_country.describe()"
   ]
  },
  {
   "cell_type": "code",
   "execution_count": 43,
   "metadata": {
    "colab": {
     "base_uri": "https://localhost:8080/",
     "height": 112
    },
    "executionInfo": {
     "elapsed": 555,
     "status": "ok",
     "timestamp": 1650987712433,
     "user": {
      "displayName": "Muhammad Abiodun Sulaiman",
      "userId": "02471899085126984945"
     },
     "user_tz": -60
    },
    "id": "3u5McXaCVU0h",
    "outputId": "3f83c0dc-e324-46c1-fecf-667aaf897de0"
   },
   "outputs": [
    {
     "data": {
      "text/html": [
       "<div>\n",
       "<style scoped>\n",
       "    .dataframe tbody tr th:only-of-type {\n",
       "        vertical-align: middle;\n",
       "    }\n",
       "\n",
       "    .dataframe tbody tr th {\n",
       "        vertical-align: top;\n",
       "    }\n",
       "\n",
       "    .dataframe thead th {\n",
       "        text-align: right;\n",
       "    }\n",
       "</style>\n",
       "<table border=\"1\" class=\"dataframe\">\n",
       "  <thead>\n",
       "    <tr style=\"text-align: right;\">\n",
       "      <th></th>\n",
       "      <th>Access to electricity (% of population))</th>\n",
       "      <th>Population (total)</th>\n",
       "    </tr>\n",
       "  </thead>\n",
       "  <tbody>\n",
       "    <tr>\n",
       "      <th>Access to electricity (% of population))</th>\n",
       "      <td>1.000000</td>\n",
       "      <td>0.016902</td>\n",
       "    </tr>\n",
       "    <tr>\n",
       "      <th>Population (total)</th>\n",
       "      <td>0.016902</td>\n",
       "      <td>1.000000</td>\n",
       "    </tr>\n",
       "  </tbody>\n",
       "</table>\n",
       "</div>"
      ],
      "text/plain": [
       "                                          Access to electricity (% of population))  \\\n",
       "Access to electricity (% of population))                                  1.000000   \n",
       "Population (total)                                                        0.016902   \n",
       "\n",
       "                                          Population (total)  \n",
       "Access to electricity (% of population))            0.016902  \n",
       "Population (total)                                  1.000000  "
      ]
     },
     "execution_count": 43,
     "metadata": {},
     "output_type": "execute_result"
    }
   ],
   "source": [
    "# Check for the correlation\n",
    "\n",
    "df_final_extracted_country.corr()"
   ]
  },
  {
   "cell_type": "markdown",
   "metadata": {
    "id": "BKD2LiAIitDg"
   },
   "source": [
    "The above shows that when the data is grouped by country, there will be an increment by about 2% when total population increases."
   ]
  },
  {
   "cell_type": "code",
   "execution_count": 44,
   "metadata": {
    "colab": {
     "base_uri": "https://localhost:8080/",
     "height": 206
    },
    "executionInfo": {
     "elapsed": 653,
     "status": "ok",
     "timestamp": 1650987867380,
     "user": {
      "displayName": "Muhammad Abiodun Sulaiman",
      "userId": "02471899085126984945"
     },
     "user_tz": -60
    },
    "id": "__wm0Ibs2SuQ",
    "outputId": "690c70e7-2afd-4afe-853d-8fd644312983"
   },
   "outputs": [
    {
     "data": {
      "text/html": [
       "<div>\n",
       "<style scoped>\n",
       "    .dataframe tbody tr th:only-of-type {\n",
       "        vertical-align: middle;\n",
       "    }\n",
       "\n",
       "    .dataframe tbody tr th {\n",
       "        vertical-align: top;\n",
       "    }\n",
       "\n",
       "    .dataframe thead th {\n",
       "        text-align: right;\n",
       "    }\n",
       "</style>\n",
       "<table border=\"1\" class=\"dataframe\">\n",
       "  <thead>\n",
       "    <tr style=\"text-align: right;\">\n",
       "      <th></th>\n",
       "      <th>Country Name</th>\n",
       "      <th>Access to electricity (% of population))</th>\n",
       "      <th>Population (total)</th>\n",
       "    </tr>\n",
       "  </thead>\n",
       "  <tbody>\n",
       "    <tr>\n",
       "      <th>1</th>\n",
       "      <td>Albania</td>\n",
       "      <td>100.0</td>\n",
       "      <td>3.099619e+06</td>\n",
       "    </tr>\n",
       "    <tr>\n",
       "      <th>3</th>\n",
       "      <td>Andorra</td>\n",
       "      <td>100.0</td>\n",
       "      <td>6.894625e+04</td>\n",
       "    </tr>\n",
       "    <tr>\n",
       "      <th>9</th>\n",
       "      <td>Australia</td>\n",
       "      <td>100.0</td>\n",
       "      <td>1.921539e+07</td>\n",
       "    </tr>\n",
       "    <tr>\n",
       "      <th>10</th>\n",
       "      <td>Austria</td>\n",
       "      <td>100.0</td>\n",
       "      <td>8.047475e+06</td>\n",
       "    </tr>\n",
       "    <tr>\n",
       "      <th>15</th>\n",
       "      <td>Belarus</td>\n",
       "      <td>100.0</td>\n",
       "      <td>9.937421e+06</td>\n",
       "    </tr>\n",
       "  </tbody>\n",
       "</table>\n",
       "</div>"
      ],
      "text/plain": [
       "   Country Name  Access to electricity (% of population))  Population (total)\n",
       "1       Albania                                     100.0        3.099619e+06\n",
       "3       Andorra                                     100.0        6.894625e+04\n",
       "9     Australia                                     100.0        1.921539e+07\n",
       "10      Austria                                     100.0        8.047475e+06\n",
       "15      Belarus                                     100.0        9.937421e+06"
      ]
     },
     "execution_count": 44,
     "metadata": {},
     "output_type": "execute_result"
    }
   ],
   "source": [
    "# Create a dataframe for the top 5 countries by Arable land\n",
    "\n",
    "df_final_extracted_country_arable_5 = df_final_extracted_country.nlargest(5, 'Access to electricity (% of population))')\n",
    "df_final_extracted_country_arable_5.head()"
   ]
  },
  {
   "cell_type": "code",
   "execution_count": 44,
   "metadata": {
    "colab": {
     "base_uri": "https://localhost:8080/",
     "height": 920
    },
    "executionInfo": {
     "elapsed": 633,
     "status": "ok",
     "timestamp": 1650987996421,
     "user": {
      "displayName": "Muhammad Abiodun Sulaiman",
      "userId": "02471899085126984945"
     },
     "user_tz": -60
    },
    "id": "vRhhBA522SuR",
    "outputId": "1fac4ea7-8469-4490-aed9-a5e6f578ec5c"
   },
   "outputs": [
    {
     "data": {
      "image/png": "[encoded data removed]",
      "text/plain": [
       "<Figure size 1500x1000 with 1 Axes>"
      ]
     },
     "metadata": {},
     "output_type": "display_data"
    }
   ],
   "source": [
    "# Plot a bar chart for the top 5 countries by arable land\n",
    "\n",
    "df_final_extracted_country_arable_5.plot(x='Country Name', y=['Access to electricity (% of population))'], kind='bar', figsize=(15,10), title='Bar Chart of Accessibility to Electricity')\n",
    "plt.legend()\n",
    "plt.show()"
   ]
  },
  {
   "cell_type": "code",
   "execution_count": 50,
   "metadata": {
    "colab": {
     "base_uri": "https://localhost:8080/",
     "height": 206
    },
    "executionInfo": {
     "elapsed": 596,
     "status": "ok",
     "timestamp": 1650988053111,
     "user": {
      "displayName": "Muhammad Abiodun Sulaiman",
      "userId": "02471899085126984945"
     },
     "user_tz": -60
    },
    "id": "QND0D3lk2SuS",
    "outputId": "c82f8c7a-03ae-4333-cfbf-c78f5214c053"
   },
   "outputs": [
    {
     "data": {
      "text/html": [
       "<div>\n",
       "<style scoped>\n",
       "    .dataframe tbody tr th:only-of-type {\n",
       "        vertical-align: middle;\n",
       "    }\n",
       "\n",
       "    .dataframe tbody tr th {\n",
       "        vertical-align: top;\n",
       "    }\n",
       "\n",
       "    .dataframe thead th {\n",
       "        text-align: right;\n",
       "    }\n",
       "</style>\n",
       "<table border=\"1\" class=\"dataframe\">\n",
       "  <thead>\n",
       "    <tr style=\"text-align: right;\">\n",
       "      <th></th>\n",
       "      <th>Country Name</th>\n",
       "      <th>Access to electricity (% of population))</th>\n",
       "      <th>Population (total)</th>\n",
       "    </tr>\n",
       "  </thead>\n",
       "  <tbody>\n",
       "    <tr>\n",
       "      <th>36</th>\n",
       "      <td>China</td>\n",
       "      <td>98.242003</td>\n",
       "      <td>1.302329e+09</td>\n",
       "    </tr>\n",
       "    <tr>\n",
       "      <th>75</th>\n",
       "      <td>India</td>\n",
       "      <td>60.880308</td>\n",
       "      <td>1.073867e+09</td>\n",
       "    </tr>\n",
       "    <tr>\n",
       "      <th>76</th>\n",
       "      <td>Indonesia</td>\n",
       "      <td>80.241203</td>\n",
       "      <td>2.121338e+08</td>\n",
       "    </tr>\n",
       "    <tr>\n",
       "      <th>23</th>\n",
       "      <td>Brazil</td>\n",
       "      <td>94.524370</td>\n",
       "      <td>1.733288e+08</td>\n",
       "    </tr>\n",
       "    <tr>\n",
       "      <th>126</th>\n",
       "      <td>Pakistan</td>\n",
       "      <td>70.549500</td>\n",
       "      <td>1.527726e+08</td>\n",
       "    </tr>\n",
       "  </tbody>\n",
       "</table>\n",
       "</div>"
      ],
      "text/plain": [
       "    Country Name  Access to electricity (% of population))  Population (total)\n",
       "36         China                                 98.242003        1.302329e+09\n",
       "75         India                                 60.880308        1.073867e+09\n",
       "76     Indonesia                                 80.241203        2.121338e+08\n",
       "23        Brazil                                 94.524370        1.733288e+08\n",
       "126     Pakistan                                 70.549500        1.527726e+08"
      ]
     },
     "execution_count": 50,
     "metadata": {},
     "output_type": "execute_result"
    }
   ],
   "source": [
    "df_final_extracted_country_population_5 = df_final_extracted_country.nlargest(5, 'Population (total)')\n",
    "df_final_extracted_country_population_5.head()"
   ]
  },
  {
   "cell_type": "code",
   "execution_count": 64,
   "metadata": {
    "colab": {
     "base_uri": "https://localhost:8080/",
     "height": 943
    },
    "executionInfo": {
     "elapsed": 839,
     "status": "ok",
     "timestamp": 1650988109336,
     "user": {
      "displayName": "Muhammad Abiodun Sulaiman",
      "userId": "02471899085126984945"
     },
     "user_tz": -60
    },
    "id": "h2MQGwH22SuS",
    "outputId": "9c3ba1ae-5e55-4fe9-a188-02bff7266dc5"
   },
   "outputs": [
    {
     "data": {
      "text/plain": [
       "<AxesSubplot:title={'center':'Bar Chart of Accessibility to Electricity'}, xlabel='Country Name'>"
      ]
     },
     "execution_count": 64,
     "metadata": {},
     "output_type": "execute_result"
    },
    {
     "data": {
      "image/png": "[encoded data removed]",
      "text/plain": [
       "<Figure size 1500x1000 with 1 Axes>"
      ]
     },
     "metadata": {},
     "output_type": "display_data"
    }
   ],
   "source": [
    "# Plot a bar chart for the top 5 countries by forest area\n",
    "#the color helps in better visualization\n",
    "c = ['red', 'yellow', 'black', 'blue', 'orange']\n",
    "df_final_extracted_country_population_5.plot.bar(x='Country Name', y='Access to electricity (% of population))', color=['red', 'yellow', 'black', 'blue', 'orange'], figsize=(15,10), title='Bar Chart of Accessibility to Electricity')\n"
   ]
  },
  {
   "attachments": {},
   "cell_type": "markdown",
   "metadata": {
    "id": "1DE05svpBhZX"
   },
   "source": [
    "Next, we shall pick three notable Asia countries and visualize their data. The selected countries are:\n",
    "\n",
    "1. China\n",
    "2. India\n",
    "3. Indonessia"
   ]
  },
  {
   "cell_type": "code",
   "execution_count": 70,
   "metadata": {
    "colab": {
     "base_uri": "https://localhost:8080/",
     "height": 206
    },
    "executionInfo": {
     "elapsed": 512,
     "status": "ok",
     "timestamp": 1650991582869,
     "user": {
      "displayName": "Muhammad Abiodun Sulaiman",
      "userId": "02471899085126984945"
     },
     "user_tz": -60
    },
    "id": "DFB5Br6Xuu_j",
    "outputId": "fd78504e-0558-4978-fb47-820be7be9afc"
   },
   "outputs": [
    {
     "data": {
      "text/html": [
       "<div>\n",
       "<style scoped>\n",
       "    .dataframe tbody tr th:only-of-type {\n",
       "        vertical-align: middle;\n",
       "    }\n",
       "\n",
       "    .dataframe tbody tr th {\n",
       "        vertical-align: top;\n",
       "    }\n",
       "\n",
       "    .dataframe thead th {\n",
       "        text-align: right;\n",
       "    }\n",
       "</style>\n",
       "<table border=\"1\" class=\"dataframe\">\n",
       "  <thead>\n",
       "    <tr style=\"text-align: right;\">\n",
       "      <th></th>\n",
       "      <th>Country Name</th>\n",
       "      <th>Country Code</th>\n",
       "      <th>Year</th>\n",
       "      <th>Access to electricity (% of population))</th>\n",
       "      <th>Population (total)</th>\n",
       "    </tr>\n",
       "  </thead>\n",
       "  <tbody>\n",
       "    <tr>\n",
       "      <th>805</th>\n",
       "      <td>China</td>\n",
       "      <td>CHN</td>\n",
       "      <td>2000</td>\n",
       "      <td>96.930870</td>\n",
       "      <td>1.262645e+09</td>\n",
       "    </tr>\n",
       "    <tr>\n",
       "      <th>806</th>\n",
       "      <td>China</td>\n",
       "      <td>CHN</td>\n",
       "      <td>2001</td>\n",
       "      <td>97.213219</td>\n",
       "      <td>1.271850e+09</td>\n",
       "    </tr>\n",
       "    <tr>\n",
       "      <th>807</th>\n",
       "      <td>China</td>\n",
       "      <td>CHN</td>\n",
       "      <td>2002</td>\n",
       "      <td>97.487282</td>\n",
       "      <td>1.280400e+09</td>\n",
       "    </tr>\n",
       "    <tr>\n",
       "      <th>808</th>\n",
       "      <td>China</td>\n",
       "      <td>CHN</td>\n",
       "      <td>2003</td>\n",
       "      <td>97.751877</td>\n",
       "      <td>1.288400e+09</td>\n",
       "    </tr>\n",
       "    <tr>\n",
       "      <th>809</th>\n",
       "      <td>China</td>\n",
       "      <td>CHN</td>\n",
       "      <td>2004</td>\n",
       "      <td>98.005836</td>\n",
       "      <td>1.296075e+09</td>\n",
       "    </tr>\n",
       "  </tbody>\n",
       "</table>\n",
       "</div>"
      ],
      "text/plain": [
       "    Country Name Country Code  Year  Access to electricity (% of population))  \\\n",
       "805        China          CHN  2000                                 96.930870   \n",
       "806        China          CHN  2001                                 97.213219   \n",
       "807        China          CHN  2002                                 97.487282   \n",
       "808        China          CHN  2003                                 97.751877   \n",
       "809        China          CHN  2004                                 98.005836   \n",
       "\n",
       "     Population (total)  \n",
       "805        1.262645e+09  \n",
       "806        1.271850e+09  \n",
       "807        1.280400e+09  \n",
       "808        1.288400e+09  \n",
       "809        1.296075e+09  "
      ]
     },
     "execution_count": 70,
     "metadata": {},
     "output_type": "execute_result"
    }
   ],
   "source": [
    "# Dataframe for china\n",
    "\n",
    "df_china = df_final_1[df_final_1['Country Name'] == 'China']\n",
    "df_china.head()"
   ]
  },
  {
   "cell_type": "code",
   "execution_count": 71,
   "metadata": {
    "colab": {
     "base_uri": "https://localhost:8080/",
     "height": 890
    },
    "executionInfo": {
     "elapsed": 850,
     "status": "ok",
     "timestamp": 1650991721912,
     "user": {
      "displayName": "Muhammad Abiodun Sulaiman",
      "userId": "02471899085126984945"
     },
     "user_tz": -60
    },
    "id": "UVUUb2lzCHL5",
    "outputId": "9097f51b-6d98-4ee9-88a0-a99db9c24e33"
   },
   "outputs": [
    {
     "data": {
      "text/plain": [
       "<AxesSubplot:title={'center':'Accessibility to Electricity in China'}, ylabel='Year'>"
      ]
     },
     "execution_count": 71,
     "metadata": {},
     "output_type": "execute_result"
    },
    {
     "data": {
      "image/png": "[encoded data removed]",
      "text/plain": [
       "<Figure size 1500x1000 with 1 Axes>"
      ]
     },
     "metadata": {},
     "output_type": "display_data"
    }
   ],
   "source": [
    "# horizontal bar of Percentage Change in Arable Land vs Percentage Change in Forest Area by Year in china\n",
    "#the horizonatl bar plot presents the electricity in china along side the years\n",
    "df_china.plot(kind='barh', x='Year', y=['Access to electricity (% of population))'], figsize=(15, 10), title='Accessibility to Electricity in China', color='g')"
   ]
  },
  {
   "cell_type": "code",
   "execution_count": 57,
   "metadata": {},
   "outputs": [
    {
     "data": {
      "text/html": [
       "<div>\n",
       "<style scoped>\n",
       "    .dataframe tbody tr th:only-of-type {\n",
       "        vertical-align: middle;\n",
       "    }\n",
       "\n",
       "    .dataframe tbody tr th {\n",
       "        vertical-align: top;\n",
       "    }\n",
       "\n",
       "    .dataframe thead th {\n",
       "        text-align: right;\n",
       "    }\n",
       "</style>\n",
       "<table border=\"1\" class=\"dataframe\">\n",
       "  <thead>\n",
       "    <tr style=\"text-align: right;\">\n",
       "      <th></th>\n",
       "      <th>Access to electricity (% of population))</th>\n",
       "      <th>Population (total)</th>\n",
       "    </tr>\n",
       "  </thead>\n",
       "  <tbody>\n",
       "    <tr>\n",
       "      <th>Access to electricity (% of population))</th>\n",
       "      <td>1.000000</td>\n",
       "      <td>0.994744</td>\n",
       "    </tr>\n",
       "    <tr>\n",
       "      <th>Population (total)</th>\n",
       "      <td>0.994744</td>\n",
       "      <td>1.000000</td>\n",
       "    </tr>\n",
       "  </tbody>\n",
       "</table>\n",
       "</div>"
      ],
      "text/plain": [
       "                                          Access to electricity (% of population))  \\\n",
       "Access to electricity (% of population))                                  1.000000   \n",
       "Population (total)                                                        0.994744   \n",
       "\n",
       "                                          Population (total)  \n",
       "Access to electricity (% of population))            0.994744  \n",
       "Population (total)                                  1.000000  "
      ]
     },
     "execution_count": 57,
     "metadata": {},
     "output_type": "execute_result"
    }
   ],
   "source": [
    "df_china.corr()"
   ]
  },
  {
   "cell_type": "markdown",
   "metadata": {
    "id": "IXNR8KPWDriz"
   },
   "source": [
    "From the above chart, we observed that in China, the percentage of population that has access to electricity has continued to increase over the years. A closer look at the population indicates that China has been doing incredibly well in meeting the electricity needs of people living in the country.\n",
    "\n",
    "The result of the correlation analysis shows that per unit increase in population (100, 000), there is an increase in the percentage of population that has access to electricity by 99.47%."
   ]
  },
  {
   "cell_type": "code",
   "execution_count": 58,
   "metadata": {
    "colab": {
     "base_uri": "https://localhost:8080/",
     "height": 206
    },
    "executionInfo": {
     "elapsed": 542,
     "status": "ok",
     "timestamp": 1650991771691,
     "user": {
      "displayName": "Muhammad Abiodun Sulaiman",
      "userId": "02471899085126984945"
     },
     "user_tz": -60
    },
    "id": "c3mociN8CwzI",
    "outputId": "9c805a9a-229b-4743-9aa7-0087c5b17ee8"
   },
   "outputs": [
    {
     "data": {
      "text/html": [
       "<div>\n",
       "<style scoped>\n",
       "    .dataframe tbody tr th:only-of-type {\n",
       "        vertical-align: middle;\n",
       "    }\n",
       "\n",
       "    .dataframe tbody tr th {\n",
       "        vertical-align: top;\n",
       "    }\n",
       "\n",
       "    .dataframe thead th {\n",
       "        text-align: right;\n",
       "    }\n",
       "</style>\n",
       "<table border=\"1\" class=\"dataframe\">\n",
       "  <thead>\n",
       "    <tr style=\"text-align: right;\">\n",
       "      <th></th>\n",
       "      <th>Country Name</th>\n",
       "      <th>Country Code</th>\n",
       "      <th>Year</th>\n",
       "      <th>Access to electricity (% of population))</th>\n",
       "      <th>Population (total)</th>\n",
       "    </tr>\n",
       "  </thead>\n",
       "  <tbody>\n",
       "    <tr>\n",
       "      <th>1827</th>\n",
       "      <td>India</td>\n",
       "      <td>IND</td>\n",
       "      <td>1993</td>\n",
       "      <td>50.900000</td>\n",
       "      <td>9.274039e+08</td>\n",
       "    </tr>\n",
       "    <tr>\n",
       "      <th>1828</th>\n",
       "      <td>India</td>\n",
       "      <td>IND</td>\n",
       "      <td>1994</td>\n",
       "      <td>49.811310</td>\n",
       "      <td>9.456018e+08</td>\n",
       "    </tr>\n",
       "    <tr>\n",
       "      <th>1829</th>\n",
       "      <td>India</td>\n",
       "      <td>IND</td>\n",
       "      <td>1995</td>\n",
       "      <td>51.408775</td>\n",
       "      <td>9.639226e+08</td>\n",
       "    </tr>\n",
       "    <tr>\n",
       "      <th>1830</th>\n",
       "      <td>India</td>\n",
       "      <td>IND</td>\n",
       "      <td>1996</td>\n",
       "      <td>53.003521</td>\n",
       "      <td>9.823652e+08</td>\n",
       "    </tr>\n",
       "    <tr>\n",
       "      <th>1831</th>\n",
       "      <td>India</td>\n",
       "      <td>IND</td>\n",
       "      <td>1997</td>\n",
       "      <td>54.594864</td>\n",
       "      <td>1.000900e+09</td>\n",
       "    </tr>\n",
       "  </tbody>\n",
       "</table>\n",
       "</div>"
      ],
      "text/plain": [
       "     Country Name Country Code  Year  \\\n",
       "1827        India          IND  1993   \n",
       "1828        India          IND  1994   \n",
       "1829        India          IND  1995   \n",
       "1830        India          IND  1996   \n",
       "1831        India          IND  1997   \n",
       "\n",
       "      Access to electricity (% of population))  Population (total)  \n",
       "1827                                 50.900000        9.274039e+08  \n",
       "1828                                 49.811310        9.456018e+08  \n",
       "1829                                 51.408775        9.639226e+08  \n",
       "1830                                 53.003521        9.823652e+08  \n",
       "1831                                 54.594864        1.000900e+09  "
      ]
     },
     "execution_count": 58,
     "metadata": {},
     "output_type": "execute_result"
    }
   ],
   "source": [
    "# Dataframe for india\n",
    "\n",
    "df_india= df_final_1[df_final_1['Country Name'] == 'India']\n",
    "df_india.head()"
   ]
  },
  {
   "cell_type": "code",
   "execution_count": 65,
   "metadata": {
    "colab": {
     "base_uri": "https://localhost:8080/",
     "height": 890
    },
    "executionInfo": {
     "elapsed": 917,
     "status": "ok",
     "timestamp": 1650991821706,
     "user": {
      "displayName": "Muhammad Abiodun Sulaiman",
      "userId": "02471899085126984945"
     },
     "user_tz": -60
    },
    "id": "ULkYkVAcFSn-",
    "outputId": "990db5e2-8042-43bf-ff59-b24a939d1363"
   },
   "outputs": [
    {
     "data": {
      "text/plain": [
       "<AxesSubplot:title={'center':'Line Plot of Accessibility to Electricity in India'}, xlabel='Year'>"
      ]
     },
     "execution_count": 65,
     "metadata": {},
     "output_type": "execute_result"
    },
    {
     "data": {
      "image/png": "[encoded data removed]",
      "text/plain": [
       "<Figure size 1500x1000 with 1 Axes>"
      ]
     },
     "metadata": {},
     "output_type": "display_data"
    }
   ],
   "source": [
    "# Line plot of Percentage Change in Arable Land vs Percentage Change in Forest Area in india by Year\n",
    "\n",
    "df_india.plot(kind='line', x='Year', y=['Access to electricity (% of population))'], color=\"brown\", figsize=(15, 10), title='Line Plot of Accessibility to Electricity in India')"
   ]
  },
  {
   "cell_type": "code",
   "execution_count": 54,
   "metadata": {},
   "outputs": [
    {
     "data": {
      "text/html": [
       "<div>\n",
       "<style scoped>\n",
       "    .dataframe tbody tr th:only-of-type {\n",
       "        vertical-align: middle;\n",
       "    }\n",
       "\n",
       "    .dataframe tbody tr th {\n",
       "        vertical-align: top;\n",
       "    }\n",
       "\n",
       "    .dataframe thead th {\n",
       "        text-align: right;\n",
       "    }\n",
       "</style>\n",
       "<table border=\"1\" class=\"dataframe\">\n",
       "  <thead>\n",
       "    <tr style=\"text-align: right;\">\n",
       "      <th></th>\n",
       "      <th>Access to electricity (% of population))</th>\n",
       "      <th>Population (total)</th>\n",
       "    </tr>\n",
       "  </thead>\n",
       "  <tbody>\n",
       "    <tr>\n",
       "      <th>Access to electricity (% of population))</th>\n",
       "      <td>1.000000</td>\n",
       "      <td>0.981487</td>\n",
       "    </tr>\n",
       "    <tr>\n",
       "      <th>Population (total)</th>\n",
       "      <td>0.981487</td>\n",
       "      <td>1.000000</td>\n",
       "    </tr>\n",
       "  </tbody>\n",
       "</table>\n",
       "</div>"
      ],
      "text/plain": [
       "                                          Access to electricity (% of population))  \\\n",
       "Access to electricity (% of population))                                  1.000000   \n",
       "Population (total)                                                        0.981487   \n",
       "\n",
       "                                          Population (total)  \n",
       "Access to electricity (% of population))            0.981487  \n",
       "Population (total)                                  1.000000  "
      ]
     },
     "execution_count": 54,
     "metadata": {},
     "output_type": "execute_result"
    }
   ],
   "source": [
    "df_india.corr()"
   ]
  },
  {
   "cell_type": "markdown",
   "metadata": {
    "id": "BymNeQt2HhjX"
   },
   "source": [
    "From the above chart, we observed that in India, the percentage of population that has access to electricity has continued to increase over the years, except in years 1994, 1998, and 2002 where there were noticeable drops. A closer look at the population indicates that China has been doing incredibly well in meeting the electricity needs of people living in the country.\n",
    "\n",
    "The result of the correlation analysis shows that per unit increase in population (100, 000), there is an increase in the percentage of population that has access to electricity by 98.15%."
   ]
  },
  {
   "cell_type": "code",
   "execution_count": 51,
   "metadata": {
    "colab": {
     "base_uri": "https://localhost:8080/",
     "height": 206
    },
    "executionInfo": {
     "elapsed": 741,
     "status": "ok",
     "timestamp": 1650991901245,
     "user": {
      "displayName": "Muhammad Abiodun Sulaiman",
      "userId": "02471899085126984945"
     },
     "user_tz": -60
    },
    "id": "4XpHrdlOF97z",
    "outputId": "3833819b-0228-418e-8920-ec3247d7175b"
   },
   "outputs": [
    {
     "data": {
      "text/html": [
       "<div>\n",
       "<style scoped>\n",
       "    .dataframe tbody tr th:only-of-type {\n",
       "        vertical-align: middle;\n",
       "    }\n",
       "\n",
       "    .dataframe tbody tr th {\n",
       "        vertical-align: top;\n",
       "    }\n",
       "\n",
       "    .dataframe thead th {\n",
       "        text-align: right;\n",
       "    }\n",
       "</style>\n",
       "<table border=\"1\" class=\"dataframe\">\n",
       "  <thead>\n",
       "    <tr style=\"text-align: right;\">\n",
       "      <th></th>\n",
       "      <th>Country Name</th>\n",
       "      <th>Country Code</th>\n",
       "      <th>Year</th>\n",
       "      <th>Access to electricity (% of population))</th>\n",
       "      <th>Population (total)</th>\n",
       "    </tr>\n",
       "  </thead>\n",
       "  <tbody>\n",
       "    <tr>\n",
       "      <th>1777</th>\n",
       "      <td>Indonesia</td>\n",
       "      <td>IDN</td>\n",
       "      <td>1991</td>\n",
       "      <td>48.900000</td>\n",
       "      <td>184591897.0</td>\n",
       "    </tr>\n",
       "    <tr>\n",
       "      <th>1778</th>\n",
       "      <td>Indonesia</td>\n",
       "      <td>IDN</td>\n",
       "      <td>1992</td>\n",
       "      <td>66.696564</td>\n",
       "      <td>187739786.0</td>\n",
       "    </tr>\n",
       "    <tr>\n",
       "      <th>1779</th>\n",
       "      <td>Indonesia</td>\n",
       "      <td>IDN</td>\n",
       "      <td>1993</td>\n",
       "      <td>55.430000</td>\n",
       "      <td>190851184.0</td>\n",
       "    </tr>\n",
       "    <tr>\n",
       "      <th>1780</th>\n",
       "      <td>Indonesia</td>\n",
       "      <td>IDN</td>\n",
       "      <td>1994</td>\n",
       "      <td>62.800000</td>\n",
       "      <td>193917458.0</td>\n",
       "    </tr>\n",
       "    <tr>\n",
       "      <th>1781</th>\n",
       "      <td>Indonesia</td>\n",
       "      <td>IDN</td>\n",
       "      <td>1995</td>\n",
       "      <td>66.860000</td>\n",
       "      <td>196934257.0</td>\n",
       "    </tr>\n",
       "  </tbody>\n",
       "</table>\n",
       "</div>"
      ],
      "text/plain": [
       "     Country Name Country Code  Year  \\\n",
       "1777    Indonesia          IDN  1991   \n",
       "1778    Indonesia          IDN  1992   \n",
       "1779    Indonesia          IDN  1993   \n",
       "1780    Indonesia          IDN  1994   \n",
       "1781    Indonesia          IDN  1995   \n",
       "\n",
       "      Access to electricity (% of population))  Population (total)  \n",
       "1777                                 48.900000         184591897.0  \n",
       "1778                                 66.696564         187739786.0  \n",
       "1779                                 55.430000         190851184.0  \n",
       "1780                                 62.800000         193917458.0  \n",
       "1781                                 66.860000         196934257.0  "
      ]
     },
     "execution_count": 51,
     "metadata": {},
     "output_type": "execute_result"
    }
   ],
   "source": [
    "# Dataframe for indonesia\n",
    "\n",
    "df_indonesia = df_final_1[df_final_1['Country Name'] == 'Indonesia']\n",
    "df_indonesia.head()"
   ]
  },
  {
   "cell_type": "code",
   "execution_count": 52,
   "metadata": {
    "colab": {
     "base_uri": "https://localhost:8080/",
     "height": 890
    },
    "executionInfo": {
     "elapsed": 992,
     "status": "ok",
     "timestamp": 1650991969606,
     "user": {
      "displayName": "Muhammad Abiodun Sulaiman",
      "userId": "02471899085126984945"
     },
     "user_tz": -60
    },
    "id": "UWewQfH3JcIE",
    "outputId": "3c081dd6-a62c-4aa1-8c4a-530c4bef4860"
   },
   "outputs": [
    {
     "data": {
      "text/plain": [
       "<AxesSubplot:title={'center':'Line Plot of Accessibility to Electricity in Indonesia'}, xlabel='Year'>"
      ]
     },
     "execution_count": 52,
     "metadata": {},
     "output_type": "execute_result"
    },
    {
     "data": {
      "image/png": "[encoded data removed]",
      "text/plain": [
       "<Figure size 1500x1000 with 1 Axes>"
      ]
     },
     "metadata": {},
     "output_type": "display_data"
    }
   ],
   "source": [
    "# Line plot of Percentage Change in Arable Land vs Percentage Change in Forest Area by Year\n",
    "\n",
    "df_indonesia.plot(kind='line', x='Year', y=['Access to electricity (% of population))'], figsize=(15, 10), title='Line Plot of Accessibility to Electricity in Indonesia')"
   ]
  },
  {
   "cell_type": "code",
   "execution_count": 55,
   "metadata": {},
   "outputs": [
    {
     "data": {
      "text/html": [
       "<div>\n",
       "<style scoped>\n",
       "    .dataframe tbody tr th:only-of-type {\n",
       "        vertical-align: middle;\n",
       "    }\n",
       "\n",
       "    .dataframe tbody tr th {\n",
       "        vertical-align: top;\n",
       "    }\n",
       "\n",
       "    .dataframe thead th {\n",
       "        text-align: right;\n",
       "    }\n",
       "</style>\n",
       "<table border=\"1\" class=\"dataframe\">\n",
       "  <thead>\n",
       "    <tr style=\"text-align: right;\">\n",
       "      <th></th>\n",
       "      <th>Access to electricity (% of population))</th>\n",
       "      <th>Population (total)</th>\n",
       "    </tr>\n",
       "  </thead>\n",
       "  <tbody>\n",
       "    <tr>\n",
       "      <th>Access to electricity (% of population))</th>\n",
       "      <td>1.000000</td>\n",
       "      <td>0.895064</td>\n",
       "    </tr>\n",
       "    <tr>\n",
       "      <th>Population (total)</th>\n",
       "      <td>0.895064</td>\n",
       "      <td>1.000000</td>\n",
       "    </tr>\n",
       "  </tbody>\n",
       "</table>\n",
       "</div>"
      ],
      "text/plain": [
       "                                          Access to electricity (% of population))  \\\n",
       "Access to electricity (% of population))                                  1.000000   \n",
       "Population (total)                                                        0.895064   \n",
       "\n",
       "                                          Population (total)  \n",
       "Access to electricity (% of population))            0.895064  \n",
       "Population (total)                                  1.000000  "
      ]
     },
     "execution_count": 55,
     "metadata": {},
     "output_type": "execute_result"
    }
   ],
   "source": [
    "df_indonesia.corr()"
   ]
  },
  {
   "cell_type": "markdown",
   "metadata": {
    "id": "-B0mfTgZKLPr"
   },
   "source": [
    "From the above chart, we observed that in Indonesia, the percentage of population that has access to electricity has continued to increase over the years, except in years 1993, 1999, and 2006 where there were noticeable drops. A closer look at the population indicates that China has been doing incredibly well in meeting the electricity needs of people living in the country.\n",
    "\n",
    "The result of the correlation analysis shows that per unit increase in population (100, 000), there is an increase in the percentage of population that has access to electricity by 89.51%."
   ]
  },
  {
   "cell_type": "markdown",
   "metadata": {},
   "source": [
    "conclusion"
   ]
  },
  {
   "cell_type": "markdown",
   "metadata": {},
   "source": [
    "In conclusion, accessibility of the population in a country helps in the growth and development of that country. When grouped by countries their where 2% increase but When we visualize the selected countries in Asia we can see that China have been doing extremely well in improving the electricity of their country based on the population. \n",
    "The result of the correlation analysis in China shows that per unit increase in population (100, 000), there is an increase in the percentage of population that has access to electricity by 98.15%. Which is higher compared to India and Indonesia."
   ]
  },
  {
   "cell_type": "code",
   "execution_count": null,
   "metadata": {},
   "outputs": [],
   "source": []
  }
 ],
 "metadata": {
  "colab": {
   "collapsed_sections": [],
   "name": "Copy of Climate Change Assignment.ipynb",
   "provenance": [
    {
     "file_id": "1F8cIU1IAkMvNUv_OsERz8brUD6EfG22a",
     "timestamp": 1650969672322
    }
   ]
  },
  "kernelspec": {
   "display_name": "Python 3 (ipykernel)",
   "language": "python",
   "name": "python3"
  },
  "language_info": {
   "codemirror_mode": {
    "name": "ipython",
    "version": 3
   },
   "file_extension": ".py",
   "mimetype": "text/x-python",
   "name": "python",
   "nbconvert_exporter": "python",
   "pygments_lexer": "ipython3",
   "version": "3.9.7"
  }
 },
 "nbformat": 4,
 "nbformat_minor": 1
}
